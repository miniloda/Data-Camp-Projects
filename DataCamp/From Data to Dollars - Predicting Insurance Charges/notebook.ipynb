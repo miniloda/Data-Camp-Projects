{
 "cells": [
  {
   "source": "![](image.jpg)\n\n\nDive into the heart of data science with a project that combines healthcare insights and predictive analytics. As a Data Scientist at a top Health Insurance company, you have the opportunity to predict customer healthcare costs using the power of machine learning. Your insights will help tailor services and guide customers in planning their healthcare expenses more effectively.\n\n## Dataset Summary\n\nMeet your primary tool: the `insurance.csv` dataset. Packed with information on health insurance customers, this dataset is your key to unlocking patterns in healthcare costs. Here's what you need to know about the data you'll be working with:\n\n## insurance.csv\n| Column    | Data Type | Description                                                      |\n|-----------|-----------|------------------------------------------------------------------|\n| `age`       | int       | Age of the primary beneficiary.                                  |\n| `sex`       | object    | Gender of the insurance contractor (male or female).             |\n| `bmi`       | float     | Body mass index, a key indicator of body fat based on height and weight. |\n| `children`  | int       | Number of dependents covered by the insurance plan.              |\n| `smoker`    | object    | Indicates whether the beneficiary smokes (yes or no).            |\n| `region`    | object    | The beneficiary's residential area in the US, divided into four regions. |\n| `charges`   | float     | Individual medical costs billed by health insurance.             |\n\n\n\nA bit of data cleaning is key to ensure the dataset is ready for modeling. Once your model is built using the `insurance.csv` dataset, the next step is to apply it to the `validation_dataset.csv`. This new dataset, similar to your training data minus the `charges` column, tests your model's accuracy and real-world utility by predicting costs for new customers.\n\n## Let's Get Started!\n\nThis project is your playground for applying data science in a meaningful way, offering insights that have real-world applications. Ready to explore the data and uncover insights that could revolutionize healthcare planning? Let's begin this exciting journey!",
   "metadata": {
    "collapsed": false,
    "jupyter": {
     "outputs_hidden": false,
     "source_hidden": false
    }
   },
   "id": "6918e18a-c248-4929-b552-7aee2057c0eb",
   "cell_type": "markdown"
  },
  {
   "source": "# Re-run this cell\n# Import required libraries\nimport pandas as pd\nimport numpy as np\nimport matplotlib.pyplot as plt\nimport seaborn as sns\n\n# Loading the insurance dataset\n\ninsurance_data_path = 'insurance.csv'\ninsurance = pd.read_csv(insurance_data_path)\ninsurance.head()",
   "metadata": {
    "executionCancelledAt": null,
    "executionTime": 32,
    "lastExecutedAt": 1722850386937,
    "lastScheduledRunId": null,
    "lastSuccessfullyExecutedCode": "# Re-run this cell\n# Import required libraries\nimport pandas as pd\nimport numpy as np\nimport matplotlib.pyplot as plt\nimport seaborn as sns\n\n# Loading the insurance dataset\n\ninsurance_data_path = 'insurance.csv'\ninsurance = pd.read_csv(insurance_data_path)\ninsurance.head()",
    "outputsMetadata": {
     "0": {
      "height": 194,
      "type": "dataFrame"
     }
    },
    "lastExecutedByKernel": "23117f15-0596-48de-9574-3a123c1f5c68",
    "ExecuteTime": {
     "end_time": "2024-08-26T16:37:32.032922Z",
     "start_time": "2024-08-26T16:37:31.988688Z"
    }
   },
   "id": "81a07c66-a3d4-4fdd-9c3c-7b3a19b80d62",
   "cell_type": "code",
   "outputs": [
    {
     "data": {
      "text/plain": [
       "    age     sex     bmi  children smoker     region       charges\n",
       "0  19.0  female  27.900       0.0    yes  southwest     16884.924\n",
       "1  18.0    male  33.770       1.0     no  Southeast     1725.5523\n",
       "2  28.0    male  33.000       3.0     no  southeast     $4449.462\n",
       "3  33.0    male  22.705       0.0     no  northwest  $21984.47061\n",
       "4  32.0    male  28.880       0.0     no  northwest    $3866.8552"
      ],
      "text/html": [
       "<div>\n",
       "<style scoped>\n",
       "    .dataframe tbody tr th:only-of-type {\n",
       "        vertical-align: middle;\n",
       "    }\n",
       "\n",
       "    .dataframe tbody tr th {\n",
       "        vertical-align: top;\n",
       "    }\n",
       "\n",
       "    .dataframe thead th {\n",
       "        text-align: right;\n",
       "    }\n",
       "</style>\n",
       "<table border=\"1\" class=\"dataframe\">\n",
       "  <thead>\n",
       "    <tr style=\"text-align: right;\">\n",
       "      <th></th>\n",
       "      <th>age</th>\n",
       "      <th>sex</th>\n",
       "      <th>bmi</th>\n",
       "      <th>children</th>\n",
       "      <th>smoker</th>\n",
       "      <th>region</th>\n",
       "      <th>charges</th>\n",
       "    </tr>\n",
       "  </thead>\n",
       "  <tbody>\n",
       "    <tr>\n",
       "      <th>0</th>\n",
       "      <td>19.0</td>\n",
       "      <td>female</td>\n",
       "      <td>27.900</td>\n",
       "      <td>0.0</td>\n",
       "      <td>yes</td>\n",
       "      <td>southwest</td>\n",
       "      <td>16884.924</td>\n",
       "    </tr>\n",
       "    <tr>\n",
       "      <th>1</th>\n",
       "      <td>18.0</td>\n",
       "      <td>male</td>\n",
       "      <td>33.770</td>\n",
       "      <td>1.0</td>\n",
       "      <td>no</td>\n",
       "      <td>Southeast</td>\n",
       "      <td>1725.5523</td>\n",
       "    </tr>\n",
       "    <tr>\n",
       "      <th>2</th>\n",
       "      <td>28.0</td>\n",
       "      <td>male</td>\n",
       "      <td>33.000</td>\n",
       "      <td>3.0</td>\n",
       "      <td>no</td>\n",
       "      <td>southeast</td>\n",
       "      <td>$4449.462</td>\n",
       "    </tr>\n",
       "    <tr>\n",
       "      <th>3</th>\n",
       "      <td>33.0</td>\n",
       "      <td>male</td>\n",
       "      <td>22.705</td>\n",
       "      <td>0.0</td>\n",
       "      <td>no</td>\n",
       "      <td>northwest</td>\n",
       "      <td>$21984.47061</td>\n",
       "    </tr>\n",
       "    <tr>\n",
       "      <th>4</th>\n",
       "      <td>32.0</td>\n",
       "      <td>male</td>\n",
       "      <td>28.880</td>\n",
       "      <td>0.0</td>\n",
       "      <td>no</td>\n",
       "      <td>northwest</td>\n",
       "      <td>$3866.8552</td>\n",
       "    </tr>\n",
       "  </tbody>\n",
       "</table>\n",
       "</div>"
      ]
     },
     "execution_count": 2,
     "metadata": {},
     "output_type": "execute_result"
    }
   ],
   "execution_count": 2
  },
  {
   "source": "# Implement model creation and training here\n# Use as many cells as you need\ninsurance.info()",
   "metadata": {
    "executionCancelledAt": null,
    "executionTime": 17,
    "lastExecutedAt": 1722850387174,
    "lastExecutedByKernel": "23117f15-0596-48de-9574-3a123c1f5c68",
    "lastScheduledRunId": null,
    "lastSuccessfullyExecutedCode": "# Implement model creation and training here\n# Use as many cells as you need\ninsurance.info()",
    "outputsMetadata": {
     "0": {
      "height": 311,
      "type": "stream"
     }
    },
    "ExecuteTime": {
     "end_time": "2024-08-26T16:37:32.057745Z",
     "start_time": "2024-08-26T16:37:32.035167Z"
    }
   },
   "id": "a143c3b2-1ff1-47a0-8fc6-662b8b19dbf1",
   "cell_type": "code",
   "outputs": [
    {
     "name": "stdout",
     "output_type": "stream",
     "text": [
      "<class 'pandas.core.frame.DataFrame'>\n",
      "RangeIndex: 1338 entries, 0 to 1337\n",
      "Data columns (total 7 columns):\n",
      " #   Column    Non-Null Count  Dtype  \n",
      "---  ------    --------------  -----  \n",
      " 0   age       1272 non-null   float64\n",
      " 1   sex       1272 non-null   object \n",
      " 2   bmi       1272 non-null   float64\n",
      " 3   children  1272 non-null   float64\n",
      " 4   smoker    1272 non-null   object \n",
      " 5   region    1272 non-null   object \n",
      " 6   charges   1284 non-null   object \n",
      "dtypes: float64(3), object(4)\n",
      "memory usage: 73.3+ KB\n"
     ]
    }
   ],
   "execution_count": 3
  },
  {
   "source": "# Identify all columns except 'charges'\ncols_to_check = insurance.columns.difference(['charges'])\n\n# Find rows where all columns except 'charges' are NaN\nresult = insurance[insurance[cols_to_check].isna().all(axis=1)]\nresult",
   "metadata": {
    "executionCancelledAt": null,
    "executionTime": 25,
    "lastExecutedAt": 1722850387498,
    "lastExecutedByKernel": "23117f15-0596-48de-9574-3a123c1f5c68",
    "lastScheduledRunId": null,
    "lastSuccessfullyExecutedCode": "# Identify all columns except 'charges'\ncols_to_check = insurance.columns.difference(['charges'])\n\n# Find rows where all columns except 'charges' are NaN\nresult = insurance[insurance[cols_to_check].isna().all(axis=1)]\nresult",
    "outputsMetadata": {
     "0": {
      "height": 120,
      "type": "dataFrame"
     }
    },
    "ExecuteTime": {
     "end_time": "2024-08-26T16:37:32.083491Z",
     "start_time": "2024-08-26T16:37:32.059860Z"
    }
   },
   "cell_type": "code",
   "id": "4e9abcd0-321d-4be4-a4d9-95a8a521edec",
   "outputs": [
    {
     "data": {
      "text/plain": [
       "     age  sex  bmi  children smoker region charges\n",
       "447  NaN  NaN  NaN       NaN    NaN    NaN     NaN\n",
       "780  NaN  NaN  NaN       NaN    NaN    NaN     NaN"
      ],
      "text/html": [
       "<div>\n",
       "<style scoped>\n",
       "    .dataframe tbody tr th:only-of-type {\n",
       "        vertical-align: middle;\n",
       "    }\n",
       "\n",
       "    .dataframe tbody tr th {\n",
       "        vertical-align: top;\n",
       "    }\n",
       "\n",
       "    .dataframe thead th {\n",
       "        text-align: right;\n",
       "    }\n",
       "</style>\n",
       "<table border=\"1\" class=\"dataframe\">\n",
       "  <thead>\n",
       "    <tr style=\"text-align: right;\">\n",
       "      <th></th>\n",
       "      <th>age</th>\n",
       "      <th>sex</th>\n",
       "      <th>bmi</th>\n",
       "      <th>children</th>\n",
       "      <th>smoker</th>\n",
       "      <th>region</th>\n",
       "      <th>charges</th>\n",
       "    </tr>\n",
       "  </thead>\n",
       "  <tbody>\n",
       "    <tr>\n",
       "      <th>447</th>\n",
       "      <td>NaN</td>\n",
       "      <td>NaN</td>\n",
       "      <td>NaN</td>\n",
       "      <td>NaN</td>\n",
       "      <td>NaN</td>\n",
       "      <td>NaN</td>\n",
       "      <td>NaN</td>\n",
       "    </tr>\n",
       "    <tr>\n",
       "      <th>780</th>\n",
       "      <td>NaN</td>\n",
       "      <td>NaN</td>\n",
       "      <td>NaN</td>\n",
       "      <td>NaN</td>\n",
       "      <td>NaN</td>\n",
       "      <td>NaN</td>\n",
       "      <td>NaN</td>\n",
       "    </tr>\n",
       "  </tbody>\n",
       "</table>\n",
       "</div>"
      ]
     },
     "execution_count": 4,
     "metadata": {},
     "output_type": "execute_result"
    }
   ],
   "execution_count": 4
  },
  {
   "source": "insurance.dropna(inplace = True)",
   "metadata": {
    "executionCancelledAt": null,
    "executionTime": 12,
    "lastExecutedAt": 1722850387750,
    "lastExecutedByKernel": "23117f15-0596-48de-9574-3a123c1f5c68",
    "lastScheduledRunId": null,
    "lastSuccessfullyExecutedCode": "insurance.dropna(inplace = True)",
    "ExecuteTime": {
     "end_time": "2024-08-26T16:37:32.093529Z",
     "start_time": "2024-08-26T16:37:32.084690Z"
    }
   },
   "cell_type": "code",
   "id": "feeac76c-50a1-42a7-99f7-a95b9e3ecb59",
   "outputs": [],
   "execution_count": 5
  },
  {
   "source": "len(insurance)",
   "metadata": {
    "executionCancelledAt": null,
    "executionTime": 13,
    "lastExecutedAt": 1722850388051,
    "lastExecutedByKernel": "23117f15-0596-48de-9574-3a123c1f5c68",
    "lastScheduledRunId": null,
    "lastSuccessfullyExecutedCode": "len(insurance)",
    "ExecuteTime": {
     "end_time": "2024-08-26T16:37:32.106279Z",
     "start_time": "2024-08-26T16:37:32.095673Z"
    }
   },
   "cell_type": "code",
   "id": "d8fd53e7-9e34-47e3-9418-6b8a5a7df8a5",
   "outputs": [
    {
     "data": {
      "text/plain": [
       "1208"
      ]
     },
     "execution_count": 6,
     "metadata": {},
     "output_type": "execute_result"
    }
   ],
   "execution_count": 6
  },
  {
   "source": "insurance.nunique()",
   "metadata": {
    "executionCancelledAt": null,
    "executionTime": 13,
    "lastExecutedAt": 1722850388271,
    "lastExecutedByKernel": "23117f15-0596-48de-9574-3a123c1f5c68",
    "lastScheduledRunId": null,
    "lastSuccessfullyExecutedCode": "insurance.nunique()",
    "outputsMetadata": {
     "0": {
      "height": 244,
      "type": "dataFrame"
     }
    },
    "ExecuteTime": {
     "end_time": "2024-08-26T16:37:32.126900Z",
     "start_time": "2024-08-26T16:37:32.108345Z"
    }
   },
   "cell_type": "code",
   "id": "b30ef6a8-e19e-46da-8718-b5213e212f57",
   "outputs": [
    {
     "data": {
      "text/plain": [
       "age           80\n",
       "sex            6\n",
       "bmi          528\n",
       "children      10\n",
       "smoker         2\n",
       "region         8\n",
       "charges     1207\n",
       "dtype: int64"
      ]
     },
     "execution_count": 7,
     "metadata": {},
     "output_type": "execute_result"
    }
   ],
   "execution_count": 7
  },
  {
   "source": "insurance.isna().sum()",
   "metadata": {
    "executionCancelledAt": null,
    "executionTime": 17,
    "lastExecutedAt": 1722850388548,
    "lastExecutedByKernel": "23117f15-0596-48de-9574-3a123c1f5c68",
    "lastScheduledRunId": null,
    "lastSuccessfullyExecutedCode": "insurance.isna().sum()",
    "outputsMetadata": {
     "0": {
      "height": 244,
      "type": "dataFrame"
     }
    },
    "ExecuteTime": {
     "end_time": "2024-08-26T16:37:32.141087Z",
     "start_time": "2024-08-26T16:37:32.130305Z"
    }
   },
   "cell_type": "code",
   "id": "52a4b119-c900-4ece-b22a-aa13c042154c",
   "outputs": [
    {
     "data": {
      "text/plain": [
       "age         0\n",
       "sex         0\n",
       "bmi         0\n",
       "children    0\n",
       "smoker      0\n",
       "region      0\n",
       "charges     0\n",
       "dtype: int64"
      ]
     },
     "execution_count": 8,
     "metadata": {},
     "output_type": "execute_result"
    }
   ],
   "execution_count": 8
  },
  {
   "source": "insurance.hist()",
   "metadata": {
    "executionCancelledAt": null,
    "executionTime": 450,
    "lastExecutedAt": 1722850389315,
    "lastExecutedByKernel": "23117f15-0596-48de-9574-3a123c1f5c68",
    "lastScheduledRunId": null,
    "lastSuccessfullyExecutedCode": "insurance.hist()",
    "ExecuteTime": {
     "end_time": "2024-08-26T16:37:32.759652Z",
     "start_time": "2024-08-26T16:37:32.142408Z"
    }
   },
   "cell_type": "code",
   "id": "c7eaf514-1c64-45ec-bf07-5b66c65d88d3",
   "outputs": [
    {
     "data": {
      "text/plain": [
       "array([[<Axes: title={'center': 'age'}>, <Axes: title={'center': 'bmi'}>],\n",
       "       [<Axes: title={'center': 'children'}>, <Axes: >]], dtype=object)"
      ]
     },
     "execution_count": 9,
     "metadata": {},
     "output_type": "execute_result"
    },
    {
     "data": {
      "text/plain": [
       "<Figure size 640x480 with 4 Axes>"
      ],
      "image/png": "[encoded data removed]"
     },
     "metadata": {},
     "output_type": "display_data"
    }
   ],
   "execution_count": 9
  },
  {
   "source": [
    "neg_age = insurance[insurance[\"age\"] < 0]\n",
    "neg_age"
   ],
   "metadata": {
    "executionCancelledAt": null,
    "executionTime": 14,
    "lastExecutedAt": 1722850525680,
    "lastExecutedByKernel": "23117f15-0596-48de-9574-3a123c1f5c68",
    "lastScheduledRunId": null,
    "lastSuccessfullyExecutedCode": "neg_age = insurance[insurance[\"age\"] < 0]\nlen(neg_age)",
    "outputsMetadata": {
     "0": {
      "height": 321,
      "type": "dataFrame"
     }
    },
    "ExecuteTime": {
     "end_time": "2024-08-26T16:37:32.803331Z",
     "start_time": "2024-08-26T16:37:32.760776Z"
    }
   },
   "cell_type": "code",
   "id": "22c6212c-df0b-4b2f-9038-d0e5aefd2496",
   "outputs": [
    {
     "data": {
      "text/plain": [
       "       age     sex     bmi  children smoker     region       charges\n",
       "5    -31.0   woman  25.740       0.0     no  southeast    $3756.6216\n",
       "14   -27.0    male  42.130       0.0    yes  southeast    39611.7577\n",
       "17   -23.0    male  23.845       0.0     no  northeast   $2395.17155\n",
       "79   -41.0  female  32.965      -0.0     no  Northwest   $6571.02435\n",
       "93   -35.0    male  34.770       2.0     no  Northwest    $5729.0053\n",
       "179  -41.0  female  33.155       3.0     no  Northeast   $8538.28845\n",
       "196  -39.0  female  32.800       0.0     no  Southwest     $5649.715\n",
       "205  -28.0  female  28.880       1.0     no  Northeast    $4337.7352\n",
       "211  -40.0    male  30.875       4.0     no  Northwest   $8162.71625\n",
       "292  -25.0       M  45.540       2.0    yes  southeast   $42112.2356\n",
       "315  -52.0    male  33.250       0.0     no  northeast    $9722.7695\n",
       "321  -26.0  female  29.640       4.0     no  Northeast  $24671.66334\n",
       "384  -44.0    male  22.135       2.0     no  Northeast    8302.53565\n",
       "401  -47.0    male  47.520       1.0     no  southeast     8083.9198\n",
       "445  -45.0  female  33.100       0.0     no  Southwest      7345.084\n",
       "457  -57.0  female  30.495       0.0     no  Northwest  $11840.77505\n",
       "497  -45.0    male  28.700       2.0     no  southwest      8027.968\n",
       "501  -43.0    male  26.030       0.0     no  northeast     6837.3687\n",
       "563  -50.0    male  44.770       1.0     no  southeast    $9058.7303\n",
       "590  -58.0  female  29.000       0.0     no  Southwest    $11842.442\n",
       "599  -52.0   woman  37.525       2.0     no  Northwest   33471.97189\n",
       "616  -56.0  female  28.595       0.0     no  northeast   11658.11505\n",
       "620  -30.0    male  31.400       1.0     no  Southwest     $3659.346\n",
       "634  -51.0    male  39.700       1.0     no  southwest     $9391.346\n",
       "655  -52.0  female  25.300       2.0    yes  Southeast     24667.419\n",
       "670  -30.0    male  31.570       3.0     no  southeast          $nan\n",
       "688  -47.0  female  24.100       1.0     no  southwest  $26236.57997\n",
       "691  -47.0    male  36.200      -1.0     no  southwest     $8068.185\n",
       "715  -60.0     man  28.900       0.0     no  Southwest    $12146.971\n",
       "720  -51.0  female  40.660       0.0     no  northeast     9875.6804\n",
       "750  -37.0       F  26.400       0.0    yes  southeast     19539.243\n",
       "757  -47.0  female  27.830       0.0    yes  southeast    23065.4207\n",
       "820  -45.0     man  33.700       1.0     no  southwest      7445.918\n",
       "828  -41.0       M  30.780       3.0    yes  Northeast    39597.4072\n",
       "850  -37.0  female  30.780       0.0    yes  northeast    37270.1512\n",
       "864  -51.0    male  25.400      -0.0     no  southwest      8782.469\n",
       "879  -37.0  female  29.500       2.0     no  Southwest      6311.952\n",
       "927  -57.0  female  20.100       1.0     no  Southwest    $12032.326\n",
       "937  -39.0  female  24.225       5.0     no  Northwest   $8965.79575\n",
       "972  -22.0   woman  20.235       0.0     no  Northwest    2527.81865\n",
       "999  -36.0   woman  26.885       0.0     no  northwest    5267.81815\n",
       "1025 -21.0  female  34.600       0.0     no  Southwest      2020.177\n",
       "1041 -18.0    male  23.085       0.0     no  Northeast    1704.70015\n",
       "1055 -55.0    male  27.645       0.0     no  Northwest   10594.50155\n",
       "1063 -36.0    male  28.595       3.0     no  northwest   $6548.19505\n",
       "1142 -52.0  female  24.860       0.0     no  Southeast   27117.99378\n",
       "1144 -50.0    male  32.300       2.0     no  southwest      9630.397\n",
       "1147 -20.0       F  31.920       0.0     no  northwest     2261.5688\n",
       "1150 -18.0  female  30.305       0.0     no  northeast    2203.73595\n",
       "1216 -40.0     man  25.080       0.0     no  Southeast     5415.6612\n",
       "1251 -19.0    male  19.800       0.0     no  southwest      1241.565\n",
       "1254 -34.0       F  27.720       0.0     no  southeast    $4415.1588\n",
       "1265 -64.0    male  23.760       0.0    yes  Southeast   $26926.5144\n",
       "1273 -35.0       M  27.610       1.0     no  southeast     4747.0529\n",
       "1278 -39.0    male  29.925       1.0    yes  northeast   22462.04375\n",
       "1291 -19.0    male  34.900       0.0    yes  southwest     34828.654\n",
       "1303 -43.0    male  27.800       0.0    yes  southwest    37829.7242\n",
       "1311 -33.0  female  26.695       0.0     no  northwest    4571.41305\n",
       "1334 -18.0  female  31.920       0.0     no  Northeast     2205.9808"
      ],
      "text/html": [
       "<div>\n",
       "<style scoped>\n",
       "    .dataframe tbody tr th:only-of-type {\n",
       "        vertical-align: middle;\n",
       "    }\n",
       "\n",
       "    .dataframe tbody tr th {\n",
       "        vertical-align: top;\n",
       "    }\n",
       "\n",
       "    .dataframe thead th {\n",
       "        text-align: right;\n",
       "    }\n",
       "</style>\n",
       "<table border=\"1\" class=\"dataframe\">\n",
       "  <thead>\n",
       "    <tr style=\"text-align: right;\">\n",
       "      <th></th>\n",
       "      <th>age</th>\n",
       "      <th>sex</th>\n",
       "      <th>bmi</th>\n",
       "      <th>children</th>\n",
       "      <th>smoker</th>\n",
       "      <th>region</th>\n",
       "      <th>charges</th>\n",
       "    </tr>\n",
       "  </thead>\n",
       "  <tbody>\n",
       "    <tr>\n",
       "      <th>5</th>\n",
       "      <td>-31.0</td>\n",
       "      <td>woman</td>\n",
       "      <td>25.740</td>\n",
       "      <td>0.0</td>\n",
       "      <td>no</td>\n",
       "      <td>southeast</td>\n",
       "      <td>$3756.6216</td>\n",
       "    </tr>\n",
       "    <tr>\n",
       "      <th>14</th>\n",
       "      <td>-27.0</td>\n",
       "      <td>male</td>\n",
       "      <td>42.130</td>\n",
       "      <td>0.0</td>\n",
       "      <td>yes</td>\n",
       "      <td>southeast</td>\n",
       "      <td>39611.7577</td>\n",
       "    </tr>\n",
       "    <tr>\n",
       "      <th>17</th>\n",
       "      <td>-23.0</td>\n",
       "      <td>male</td>\n",
       "      <td>23.845</td>\n",
       "      <td>0.0</td>\n",
       "      <td>no</td>\n",
       "      <td>northeast</td>\n",
       "      <td>$2395.17155</td>\n",
       "    </tr>\n",
       "    <tr>\n",
       "      <th>79</th>\n",
       "      <td>-41.0</td>\n",
       "      <td>female</td>\n",
       "      <td>32.965</td>\n",
       "      <td>-0.0</td>\n",
       "      <td>no</td>\n",
       "      <td>Northwest</td>\n",
       "      <td>$6571.02435</td>\n",
       "    </tr>\n",
       "    <tr>\n",
       "      <th>93</th>\n",
       "      <td>-35.0</td>\n",
       "      <td>male</td>\n",
       "      <td>34.770</td>\n",
       "      <td>2.0</td>\n",
       "      <td>no</td>\n",
       "      <td>Northwest</td>\n",
       "      <td>$5729.0053</td>\n",
       "    </tr>\n",
       "    <tr>\n",
       "      <th>179</th>\n",
       "      <td>-41.0</td>\n",
       "      <td>female</td>\n",
       "      <td>33.155</td>\n",
       "      <td>3.0</td>\n",
       "      <td>no</td>\n",
       "      <td>Northeast</td>\n",
       "      <td>$8538.28845</td>\n",
       "    </tr>\n",
       "    <tr>\n",
       "      <th>196</th>\n",
       "      <td>-39.0</td>\n",
       "      <td>female</td>\n",
       "      <td>32.800</td>\n",
       "      <td>0.0</td>\n",
       "      <td>no</td>\n",
       "      <td>Southwest</td>\n",
       "      <td>$5649.715</td>\n",
       "    </tr>\n",
       "    <tr>\n",
       "      <th>205</th>\n",
       "      <td>-28.0</td>\n",
       "      <td>female</td>\n",
       "      <td>28.880</td>\n",
       "      <td>1.0</td>\n",
       "      <td>no</td>\n",
       "      <td>Northeast</td>\n",
       "      <td>$4337.7352</td>\n",
       "    </tr>\n",
       "    <tr>\n",
       "      <th>211</th>\n",
       "      <td>-40.0</td>\n",
       "      <td>male</td>\n",
       "      <td>30.875</td>\n",
       "      <td>4.0</td>\n",
       "      <td>no</td>\n",
       "      <td>Northwest</td>\n",
       "      <td>$8162.71625</td>\n",
       "    </tr>\n",
       "    <tr>\n",
       "      <th>292</th>\n",
       "      <td>-25.0</td>\n",
       "      <td>M</td>\n",
       "      <td>45.540</td>\n",
       "      <td>2.0</td>\n",
       "      <td>yes</td>\n",
       "      <td>southeast</td>\n",
       "      <td>$42112.2356</td>\n",
       "    </tr>\n",
       "    <tr>\n",
       "      <th>315</th>\n",
       "      <td>-52.0</td>\n",
       "      <td>male</td>\n",
       "      <td>33.250</td>\n",
       "      <td>0.0</td>\n",
       "      <td>no</td>\n",
       "      <td>northeast</td>\n",
       "      <td>$9722.7695</td>\n",
       "    </tr>\n",
       "    <tr>\n",
       "      <th>321</th>\n",
       "      <td>-26.0</td>\n",
       "      <td>female</td>\n",
       "      <td>29.640</td>\n",
       "      <td>4.0</td>\n",
       "      <td>no</td>\n",
       "      <td>Northeast</td>\n",
       "      <td>$24671.66334</td>\n",
       "    </tr>\n",
       "    <tr>\n",
       "      <th>384</th>\n",
       "      <td>-44.0</td>\n",
       "      <td>male</td>\n",
       "      <td>22.135</td>\n",
       "      <td>2.0</td>\n",
       "      <td>no</td>\n",
       "      <td>Northeast</td>\n",
       "      <td>8302.53565</td>\n",
       "    </tr>\n",
       "    <tr>\n",
       "      <th>401</th>\n",
       "      <td>-47.0</td>\n",
       "      <td>male</td>\n",
       "      <td>47.520</td>\n",
       "      <td>1.0</td>\n",
       "      <td>no</td>\n",
       "      <td>southeast</td>\n",
       "      <td>8083.9198</td>\n",
       "    </tr>\n",
       "    <tr>\n",
       "      <th>445</th>\n",
       "      <td>-45.0</td>\n",
       "      <td>female</td>\n",
       "      <td>33.100</td>\n",
       "      <td>0.0</td>\n",
       "      <td>no</td>\n",
       "      <td>Southwest</td>\n",
       "      <td>7345.084</td>\n",
       "    </tr>\n",
       "    <tr>\n",
       "      <th>457</th>\n",
       "      <td>-57.0</td>\n",
       "      <td>female</td>\n",
       "      <td>30.495</td>\n",
       "      <td>0.0</td>\n",
       "      <td>no</td>\n",
       "      <td>Northwest</td>\n",
       "      <td>$11840.77505</td>\n",
       "    </tr>\n",
       "    <tr>\n",
       "      <th>497</th>\n",
       "      <td>-45.0</td>\n",
       "      <td>male</td>\n",
       "      <td>28.700</td>\n",
       "      <td>2.0</td>\n",
       "      <td>no</td>\n",
       "      <td>southwest</td>\n",
       "      <td>8027.968</td>\n",
       "    </tr>\n",
       "    <tr>\n",
       "      <th>501</th>\n",
       "      <td>-43.0</td>\n",
       "      <td>male</td>\n",
       "      <td>26.030</td>\n",
       "      <td>0.0</td>\n",
       "      <td>no</td>\n",
       "      <td>northeast</td>\n",
       "      <td>6837.3687</td>\n",
       "    </tr>\n",
       "    <tr>\n",
       "      <th>563</th>\n",
       "      <td>-50.0</td>\n",
       "      <td>male</td>\n",
       "      <td>44.770</td>\n",
       "      <td>1.0</td>\n",
       "      <td>no</td>\n",
       "      <td>southeast</td>\n",
       "      <td>$9058.7303</td>\n",
       "    </tr>\n",
       "    <tr>\n",
       "      <th>590</th>\n",
       "      <td>-58.0</td>\n",
       "      <td>female</td>\n",
       "      <td>29.000</td>\n",
       "      <td>0.0</td>\n",
       "      <td>no</td>\n",
       "      <td>Southwest</td>\n",
       "      <td>$11842.442</td>\n",
       "    </tr>\n",
       "    <tr>\n",
       "      <th>599</th>\n",
       "      <td>-52.0</td>\n",
       "      <td>woman</td>\n",
       "      <td>37.525</td>\n",
       "      <td>2.0</td>\n",
       "      <td>no</td>\n",
       "      <td>Northwest</td>\n",
       "      <td>33471.97189</td>\n",
       "    </tr>\n",
       "    <tr>\n",
       "      <th>616</th>\n",
       "      <td>-56.0</td>\n",
       "      <td>female</td>\n",
       "      <td>28.595</td>\n",
       "      <td>0.0</td>\n",
       "      <td>no</td>\n",
       "      <td>northeast</td>\n",
       "      <td>11658.11505</td>\n",
       "    </tr>\n",
       "    <tr>\n",
       "      <th>620</th>\n",
       "      <td>-30.0</td>\n",
       "      <td>male</td>\n",
       "      <td>31.400</td>\n",
       "      <td>1.0</td>\n",
       "      <td>no</td>\n",
       "      <td>Southwest</td>\n",
       "      <td>$3659.346</td>\n",
       "    </tr>\n",
       "    <tr>\n",
       "      <th>634</th>\n",
       "      <td>-51.0</td>\n",
       "      <td>male</td>\n",
       "      <td>39.700</td>\n",
       "      <td>1.0</td>\n",
       "      <td>no</td>\n",
       "      <td>southwest</td>\n",
       "      <td>$9391.346</td>\n",
       "    </tr>\n",
       "    <tr>\n",
       "      <th>655</th>\n",
       "      <td>-52.0</td>\n",
       "      <td>female</td>\n",
       "      <td>25.300</td>\n",
       "      <td>2.0</td>\n",
       "      <td>yes</td>\n",
       "      <td>Southeast</td>\n",
       "      <td>24667.419</td>\n",
       "    </tr>\n",
       "    <tr>\n",
       "      <th>670</th>\n",
       "      <td>-30.0</td>\n",
       "      <td>male</td>\n",
       "      <td>31.570</td>\n",
       "      <td>3.0</td>\n",
       "      <td>no</td>\n",
       "      <td>southeast</td>\n",
       "      <td>$nan</td>\n",
       "    </tr>\n",
       "    <tr>\n",
       "      <th>688</th>\n",
       "      <td>-47.0</td>\n",
       "      <td>female</td>\n",
       "      <td>24.100</td>\n",
       "      <td>1.0</td>\n",
       "      <td>no</td>\n",
       "      <td>southwest</td>\n",
       "      <td>$26236.57997</td>\n",
       "    </tr>\n",
       "    <tr>\n",
       "      <th>691</th>\n",
       "      <td>-47.0</td>\n",
       "      <td>male</td>\n",
       "      <td>36.200</td>\n",
       "      <td>-1.0</td>\n",
       "      <td>no</td>\n",
       "      <td>southwest</td>\n",
       "      <td>$8068.185</td>\n",
       "    </tr>\n",
       "    <tr>\n",
       "      <th>715</th>\n",
       "      <td>-60.0</td>\n",
       "      <td>man</td>\n",
       "      <td>28.900</td>\n",
       "      <td>0.0</td>\n",
       "      <td>no</td>\n",
       "      <td>Southwest</td>\n",
       "      <td>$12146.971</td>\n",
       "    </tr>\n",
       "    <tr>\n",
       "      <th>720</th>\n",
       "      <td>-51.0</td>\n",
       "      <td>female</td>\n",
       "      <td>40.660</td>\n",
       "      <td>0.0</td>\n",
       "      <td>no</td>\n",
       "      <td>northeast</td>\n",
       "      <td>9875.6804</td>\n",
       "    </tr>\n",
       "    <tr>\n",
       "      <th>750</th>\n",
       "      <td>-37.0</td>\n",
       "      <td>F</td>\n",
       "      <td>26.400</td>\n",
       "      <td>0.0</td>\n",
       "      <td>yes</td>\n",
       "      <td>southeast</td>\n",
       "      <td>19539.243</td>\n",
       "    </tr>\n",
       "    <tr>\n",
       "      <th>757</th>\n",
       "      <td>-47.0</td>\n",
       "      <td>female</td>\n",
       "      <td>27.830</td>\n",
       "      <td>0.0</td>\n",
       "      <td>yes</td>\n",
       "      <td>southeast</td>\n",
       "      <td>23065.4207</td>\n",
       "    </tr>\n",
       "    <tr>\n",
       "      <th>820</th>\n",
       "      <td>-45.0</td>\n",
       "      <td>man</td>\n",
       "      <td>33.700</td>\n",
       "      <td>1.0</td>\n",
       "      <td>no</td>\n",
       "      <td>southwest</td>\n",
       "      <td>7445.918</td>\n",
       "    </tr>\n",
       "    <tr>\n",
       "      <th>828</th>\n",
       "      <td>-41.0</td>\n",
       "      <td>M</td>\n",
       "      <td>30.780</td>\n",
       "      <td>3.0</td>\n",
       "      <td>yes</td>\n",
       "      <td>Northeast</td>\n",
       "      <td>39597.4072</td>\n",
       "    </tr>\n",
       "    <tr>\n",
       "      <th>850</th>\n",
       "      <td>-37.0</td>\n",
       "      <td>female</td>\n",
       "      <td>30.780</td>\n",
       "      <td>0.0</td>\n",
       "      <td>yes</td>\n",
       "      <td>northeast</td>\n",
       "      <td>37270.1512</td>\n",
       "    </tr>\n",
       "    <tr>\n",
       "      <th>864</th>\n",
       "      <td>-51.0</td>\n",
       "      <td>male</td>\n",
       "      <td>25.400</td>\n",
       "      <td>-0.0</td>\n",
       "      <td>no</td>\n",
       "      <td>southwest</td>\n",
       "      <td>8782.469</td>\n",
       "    </tr>\n",
       "    <tr>\n",
       "      <th>879</th>\n",
       "      <td>-37.0</td>\n",
       "      <td>female</td>\n",
       "      <td>29.500</td>\n",
       "      <td>2.0</td>\n",
       "      <td>no</td>\n",
       "      <td>Southwest</td>\n",
       "      <td>6311.952</td>\n",
       "    </tr>\n",
       "    <tr>\n",
       "      <th>927</th>\n",
       "      <td>-57.0</td>\n",
       "      <td>female</td>\n",
       "      <td>20.100</td>\n",
       "      <td>1.0</td>\n",
       "      <td>no</td>\n",
       "      <td>Southwest</td>\n",
       "      <td>$12032.326</td>\n",
       "    </tr>\n",
       "    <tr>\n",
       "      <th>937</th>\n",
       "      <td>-39.0</td>\n",
       "      <td>female</td>\n",
       "      <td>24.225</td>\n",
       "      <td>5.0</td>\n",
       "      <td>no</td>\n",
       "      <td>Northwest</td>\n",
       "      <td>$8965.79575</td>\n",
       "    </tr>\n",
       "    <tr>\n",
       "      <th>972</th>\n",
       "      <td>-22.0</td>\n",
       "      <td>woman</td>\n",
       "      <td>20.235</td>\n",
       "      <td>0.0</td>\n",
       "      <td>no</td>\n",
       "      <td>Northwest</td>\n",
       "      <td>2527.81865</td>\n",
       "    </tr>\n",
       "    <tr>\n",
       "      <th>999</th>\n",
       "      <td>-36.0</td>\n",
       "      <td>woman</td>\n",
       "      <td>26.885</td>\n",
       "      <td>0.0</td>\n",
       "      <td>no</td>\n",
       "      <td>northwest</td>\n",
       "      <td>5267.81815</td>\n",
       "    </tr>\n",
       "    <tr>\n",
       "      <th>1025</th>\n",
       "      <td>-21.0</td>\n",
       "      <td>female</td>\n",
       "      <td>34.600</td>\n",
       "      <td>0.0</td>\n",
       "      <td>no</td>\n",
       "      <td>Southwest</td>\n",
       "      <td>2020.177</td>\n",
       "    </tr>\n",
       "    <tr>\n",
       "      <th>1041</th>\n",
       "      <td>-18.0</td>\n",
       "      <td>male</td>\n",
       "      <td>23.085</td>\n",
       "      <td>0.0</td>\n",
       "      <td>no</td>\n",
       "      <td>Northeast</td>\n",
       "      <td>1704.70015</td>\n",
       "    </tr>\n",
       "    <tr>\n",
       "      <th>1055</th>\n",
       "      <td>-55.0</td>\n",
       "      <td>male</td>\n",
       "      <td>27.645</td>\n",
       "      <td>0.0</td>\n",
       "      <td>no</td>\n",
       "      <td>Northwest</td>\n",
       "      <td>10594.50155</td>\n",
       "    </tr>\n",
       "    <tr>\n",
       "      <th>1063</th>\n",
       "      <td>-36.0</td>\n",
       "      <td>male</td>\n",
       "      <td>28.595</td>\n",
       "      <td>3.0</td>\n",
       "      <td>no</td>\n",
       "      <td>northwest</td>\n",
       "      <td>$6548.19505</td>\n",
       "    </tr>\n",
       "    <tr>\n",
       "      <th>1142</th>\n",
       "      <td>-52.0</td>\n",
       "      <td>female</td>\n",
       "      <td>24.860</td>\n",
       "      <td>0.0</td>\n",
       "      <td>no</td>\n",
       "      <td>Southeast</td>\n",
       "      <td>27117.99378</td>\n",
       "    </tr>\n",
       "    <tr>\n",
       "      <th>1144</th>\n",
       "      <td>-50.0</td>\n",
       "      <td>male</td>\n",
       "      <td>32.300</td>\n",
       "      <td>2.0</td>\n",
       "      <td>no</td>\n",
       "      <td>southwest</td>\n",
       "      <td>9630.397</td>\n",
       "    </tr>\n",
       "    <tr>\n",
       "      <th>1147</th>\n",
       "      <td>-20.0</td>\n",
       "      <td>F</td>\n",
       "      <td>31.920</td>\n",
       "      <td>0.0</td>\n",
       "      <td>no</td>\n",
       "      <td>northwest</td>\n",
       "      <td>2261.5688</td>\n",
       "    </tr>\n",
       "    <tr>\n",
       "      <th>1150</th>\n",
       "      <td>-18.0</td>\n",
       "      <td>female</td>\n",
       "      <td>30.305</td>\n",
       "      <td>0.0</td>\n",
       "      <td>no</td>\n",
       "      <td>northeast</td>\n",
       "      <td>2203.73595</td>\n",
       "    </tr>\n",
       "    <tr>\n",
       "      <th>1216</th>\n",
       "      <td>-40.0</td>\n",
       "      <td>man</td>\n",
       "      <td>25.080</td>\n",
       "      <td>0.0</td>\n",
       "      <td>no</td>\n",
       "      <td>Southeast</td>\n",
       "      <td>5415.6612</td>\n",
       "    </tr>\n",
       "    <tr>\n",
       "      <th>1251</th>\n",
       "      <td>-19.0</td>\n",
       "      <td>male</td>\n",
       "      <td>19.800</td>\n",
       "      <td>0.0</td>\n",
       "      <td>no</td>\n",
       "      <td>southwest</td>\n",
       "      <td>1241.565</td>\n",
       "    </tr>\n",
       "    <tr>\n",
       "      <th>1254</th>\n",
       "      <td>-34.0</td>\n",
       "      <td>F</td>\n",
       "      <td>27.720</td>\n",
       "      <td>0.0</td>\n",
       "      <td>no</td>\n",
       "      <td>southeast</td>\n",
       "      <td>$4415.1588</td>\n",
       "    </tr>\n",
       "    <tr>\n",
       "      <th>1265</th>\n",
       "      <td>-64.0</td>\n",
       "      <td>male</td>\n",
       "      <td>23.760</td>\n",
       "      <td>0.0</td>\n",
       "      <td>yes</td>\n",
       "      <td>Southeast</td>\n",
       "      <td>$26926.5144</td>\n",
       "    </tr>\n",
       "    <tr>\n",
       "      <th>1273</th>\n",
       "      <td>-35.0</td>\n",
       "      <td>M</td>\n",
       "      <td>27.610</td>\n",
       "      <td>1.0</td>\n",
       "      <td>no</td>\n",
       "      <td>southeast</td>\n",
       "      <td>4747.0529</td>\n",
       "    </tr>\n",
       "    <tr>\n",
       "      <th>1278</th>\n",
       "      <td>-39.0</td>\n",
       "      <td>male</td>\n",
       "      <td>29.925</td>\n",
       "      <td>1.0</td>\n",
       "      <td>yes</td>\n",
       "      <td>northeast</td>\n",
       "      <td>22462.04375</td>\n",
       "    </tr>\n",
       "    <tr>\n",
       "      <th>1291</th>\n",
       "      <td>-19.0</td>\n",
       "      <td>male</td>\n",
       "      <td>34.900</td>\n",
       "      <td>0.0</td>\n",
       "      <td>yes</td>\n",
       "      <td>southwest</td>\n",
       "      <td>34828.654</td>\n",
       "    </tr>\n",
       "    <tr>\n",
       "      <th>1303</th>\n",
       "      <td>-43.0</td>\n",
       "      <td>male</td>\n",
       "      <td>27.800</td>\n",
       "      <td>0.0</td>\n",
       "      <td>yes</td>\n",
       "      <td>southwest</td>\n",
       "      <td>37829.7242</td>\n",
       "    </tr>\n",
       "    <tr>\n",
       "      <th>1311</th>\n",
       "      <td>-33.0</td>\n",
       "      <td>female</td>\n",
       "      <td>26.695</td>\n",
       "      <td>0.0</td>\n",
       "      <td>no</td>\n",
       "      <td>northwest</td>\n",
       "      <td>4571.41305</td>\n",
       "    </tr>\n",
       "    <tr>\n",
       "      <th>1334</th>\n",
       "      <td>-18.0</td>\n",
       "      <td>female</td>\n",
       "      <td>31.920</td>\n",
       "      <td>0.0</td>\n",
       "      <td>no</td>\n",
       "      <td>Northeast</td>\n",
       "      <td>2205.9808</td>\n",
       "    </tr>\n",
       "  </tbody>\n",
       "</table>\n",
       "</div>"
      ]
     },
     "execution_count": 10,
     "metadata": {},
     "output_type": "execute_result"
    }
   ],
   "execution_count": 10
  },
  {
   "metadata": {
    "ExecuteTime": {
     "end_time": "2024-08-26T16:37:32.819533Z",
     "start_time": "2024-08-26T16:37:32.807580Z"
    }
   },
   "cell_type": "code",
   "source": [
    "insurance = insurance[~(insurance['age'] <0)]\n",
    "insurance = insurance[~(insurance['children'] <0)]"
   ],
   "id": "5d3b08e6d85645f3",
   "outputs": [],
   "execution_count": 11
  },
  {
   "source": "fig, ax = plt.subplots(2,1)\nsns.countplot(insurance[\"sex\"], ax = ax[0])\nsns.countplot(insurance[\"region\"], ax = ax[1], color = \"red\")\nplt.tight_layout()",
   "metadata": {
    "executionCancelledAt": null,
    "executionTime": 421,
    "lastExecutedAt": 1722850390119,
    "lastExecutedByKernel": "23117f15-0596-48de-9574-3a123c1f5c68",
    "lastScheduledRunId": null,
    "lastSuccessfullyExecutedCode": "fig, ax = plt.subplots(2,1)\nsns.countplot(insurance[\"sex\"], ax = ax[0])\nsns.countplot(insurance[\"region\"], ax = ax[1], color = \"red\")\nplt.tight_layout()",
    "ExecuteTime": {
     "end_time": "2024-08-26T16:37:33.443557Z",
     "start_time": "2024-08-26T16:37:32.823765Z"
    }
   },
   "cell_type": "code",
   "id": "a3713720-c251-4010-979a-862c28faec7b",
   "outputs": [
    {
     "data": {
      "text/plain": [
       "<Figure size 640x480 with 2 Axes>"
      ],
      "image/png": "[encoded data removed]"
     },
     "metadata": {},
     "output_type": "display_data"
    }
   ],
   "execution_count": 12
  },
  {
   "source": "#change all to female and male\ninsurance.replace([\"woman\",\"F\"], \"female\", inplace = True)\ninsurance.replace([\"man\",\"M\"], \"male\", inplace = True)\n\n#Clean region for capitalization\ninsurance[\"region\"] = insurance[\"region\"].apply(lambda x: x.title())\nfig, ax = plt.subplots(2,1)\nsns.countplot(insurance[\"sex\"], ax = ax[0])\nsns.countplot(insurance[\"region\"], ax = ax[1], color = \"red\")\nplt.tight_layout()",
   "metadata": {
    "executionCancelledAt": null,
    "executionTime": 337,
    "lastExecutedAt": 1722850390456,
    "lastExecutedByKernel": "23117f15-0596-48de-9574-3a123c1f5c68",
    "lastScheduledRunId": null,
    "lastSuccessfullyExecutedCode": "#change all to female and male\ninsurance.replace([\"woman\",\"F\"], \"female\", inplace = True)\ninsurance.replace([\"man\",\"M\"], \"male\", inplace = True)\n\n#Clean region for capitalization\ninsurance[\"region\"] = insurance[\"region\"].apply(lambda x: x.title())\nfig, ax = plt.subplots(2,1)\nsns.countplot(insurance[\"sex\"], ax = ax[0])\nsns.countplot(insurance[\"region\"], ax = ax[1], color = \"red\")\nplt.tight_layout()",
    "ExecuteTime": {
     "end_time": "2024-08-26T16:37:34.273370Z",
     "start_time": "2024-08-26T16:37:33.447806Z"
    }
   },
   "cell_type": "code",
   "id": "62cecbdc-17a8-48c7-9142-648bdc9a4616",
   "outputs": [
    {
     "data": {
      "text/plain": [
       "<Figure size 640x480 with 2 Axes>"
      ],
      "image/png": "[encoded data removed]"
     },
     "metadata": {},
     "output_type": "display_data"
    }
   ],
   "execution_count": 13
  },
  {
   "source": [
    "#convert charges to float by removing the first index dollar sign and converting to float 64\n",
    "def convert_dollar_float(x):\n",
    "    try:\n",
    "        float(x[0])\n",
    "    except ValueError:\n",
    "        return float(x[1:])\n",
    "    return float(x)\n",
    "insurance[\"charges\"] = insurance[\"charges\"].apply(convert_dollar_float)"
   ],
   "metadata": {
    "executionCancelledAt": null,
    "executionTime": 68,
    "lastExecutedAt": 1722850438816,
    "lastExecutedByKernel": "23117f15-0596-48de-9574-3a123c1f5c68",
    "lastScheduledRunId": null,
    "lastSuccessfullyExecutedCode": "#convert charges to float by removing the first index dollar sign and converting to float 64\ninsurance[\"charges\"] = insurance[\"charges\"].apply(lambda x: float(x[1:]))",
    "ExecuteTime": {
     "end_time": "2024-08-26T16:37:34.287575Z",
     "start_time": "2024-08-26T16:37:34.276523Z"
    }
   },
   "cell_type": "code",
   "id": "179c4376-421d-44d3-aaef-5ff1a600d4c8",
   "outputs": [],
   "execution_count": 14
  },
  {
   "source": "insurance.dropna(inplace = True)",
   "metadata": {
    "executionCancelledAt": null,
    "executionTime": 11,
    "lastExecutedAt": 1722850439978,
    "lastExecutedByKernel": "23117f15-0596-48de-9574-3a123c1f5c68",
    "lastScheduledRunId": null,
    "lastSuccessfullyExecutedCode": "insurance.dropna(inplace = True)",
    "ExecuteTime": {
     "end_time": "2024-08-26T16:37:34.305918Z",
     "start_time": "2024-08-26T16:37:34.289716Z"
    }
   },
   "cell_type": "code",
   "id": "21875c4c-cba6-4ea1-8fd9-d97c8e5ea2bb",
   "outputs": [],
   "execution_count": 15
  },
  {
   "source": "insurance.hist()",
   "metadata": {
    "executionCancelledAt": null,
    "executionTime": 562,
    "lastExecutedAt": 1722850441721,
    "lastExecutedByKernel": "23117f15-0596-48de-9574-3a123c1f5c68",
    "lastScheduledRunId": null,
    "lastSuccessfullyExecutedCode": "insurance.hist()",
    "ExecuteTime": {
     "end_time": "2024-08-26T16:37:35.205874Z",
     "start_time": "2024-08-26T16:37:34.310102Z"
    }
   },
   "cell_type": "code",
   "id": "e9e8b417-b165-4e13-975f-905559ddd63d",
   "outputs": [
    {
     "data": {
      "text/plain": [
       "array([[<Axes: title={'center': 'age'}>, <Axes: title={'center': 'bmi'}>],\n",
       "       [<Axes: title={'center': 'children'}>,\n",
       "        <Axes: title={'center': 'charges'}>]], dtype=object)"
      ]
     },
     "execution_count": 16,
     "metadata": {},
     "output_type": "execute_result"
    },
    {
     "data": {
      "text/plain": [
       "<Figure size 640x480 with 4 Axes>"
      ],
      "image/png": "[encoded data removed]"
     },
     "metadata": {},
     "output_type": "display_data"
    }
   ],
   "execution_count": 16
  },
  {
   "metadata": {
    "ExecuteTime": {
     "end_time": "2024-08-26T16:37:35.560672Z",
     "start_time": "2024-08-26T16:37:35.207061Z"
    }
   },
   "cell_type": "code",
   "source": "sns.relplot(x=\"region\", y=\"charges\", data=insurance)",
   "id": "4f60837c2f9ccd8c",
   "outputs": [
    {
     "data": {
      "text/plain": [
       "<seaborn.axisgrid.FacetGrid at 0x179e9282f00>"
      ]
     },
     "execution_count": 17,
     "metadata": {},
     "output_type": "execute_result"
    },
    {
     "data": {
      "text/plain": [
       "<Figure size 500x500 with 1 Axes>"
      ],
      "image/png": "[encoded data removed]"
     },
     "metadata": {},
     "output_type": "display_data"
    }
   ],
   "execution_count": 17
  },
  {
   "source": "## Analyzing charges\nIn typical medical bills, hospitals dont really charge customers based on their number of childrens.",
   "metadata": {},
   "cell_type": "markdown",
   "id": "29503769-b09c-4b33-ba5d-3bcb50cd7f7a"
  },
  {
   "metadata": {
    "ExecuteTime": {
     "end_time": "2024-08-26T16:37:36.045456Z",
     "start_time": "2024-08-26T16:37:35.565718Z"
    }
   },
   "cell_type": "code",
   "source": "sns.relplot(x=\"age\", y=\"charges\", data=insurance)",
   "id": "e2a3e345bcdca239",
   "outputs": [
    {
     "data": {
      "text/plain": [
       "<seaborn.axisgrid.FacetGrid at 0x179ebad1cd0>"
      ]
     },
     "execution_count": 18,
     "metadata": {},
     "output_type": "execute_result"
    },
    {
     "data": {
      "text/plain": [
       "<Figure size 500x500 with 1 Axes>"
      ],
      "image/png": "[encoded data removed]"
     },
     "metadata": {},
     "output_type": "display_data"
    }
   ],
   "execution_count": 18
  },
  {
   "source": "cat_reg = insurance.groupby('region')[\"charges\"].mean().reset_index()\n\n# Plot the traffic based on category\nplt.figure(figsize=(10, 6))\nplt.bar(cat_reg['region'], cat_reg['charges'])\nplt.xlabel('Category')\nplt.ylabel('Average Traffic')\nplt.title('Average Traffic by Category')\nplt.xticks(rotation=45)\nplt.show()",
   "metadata": {
    "executionCancelledAt": null,
    "executionTime": 226,
    "lastExecutedAt": 1722850444852,
    "lastExecutedByKernel": "23117f15-0596-48de-9574-3a123c1f5c68",
    "lastScheduledRunId": null,
    "lastSuccessfullyExecutedCode": "cat_reg = insurance.groupby('region')[\"charges\"].mean().reset_index()\n\n# Plot the traffic based on category\nplt.figure(figsize=(10, 6))\nplt.bar(cat_reg['region'], cat_reg['charges'])\nplt.xlabel('Category')\nplt.ylabel('Average Traffic')\nplt.title('Average Traffic by Category')\nplt.xticks(rotation=45)\nplt.show()",
    "ExecuteTime": {
     "end_time": "2024-08-26T16:37:36.273943Z",
     "start_time": "2024-08-26T16:37:36.046780Z"
    }
   },
   "cell_type": "code",
   "id": "1195f7e4-40d6-4470-a96e-c75d228c35c7",
   "outputs": [
    {
     "data": {
      "text/plain": [
       "<Figure size 1000x600 with 1 Axes>"
      ],
      "image/png": "[encoded data removed]"
     },
     "metadata": {},
     "output_type": "display_data"
    }
   ],
   "execution_count": 19
  },
  {
   "metadata": {
    "ExecuteTime": {
     "end_time": "2024-08-26T16:37:36.634181Z",
     "start_time": "2024-08-26T16:37:36.274999Z"
    }
   },
   "cell_type": "code",
   "source": [
    "from sklearn.preprocessing import StandardScaler, LabelEncoder\n",
    "from sklearn.model_selection import cross_val_score\n",
    "from sklearn.linear_model import LinearRegression\n",
    "from sklearn.model_selection import train_test_split\n",
    "from sklearn.metrics import mean_squared_error, r2_score\n",
    "X = insurance.drop([\"charges\"], axis = 1)\n",
    "y = insurance[\"charges\"]\n",
    "\n",
    "cat_col = [\"smoker\", \"sex\", \"region\", 'children']\n",
    "X_cat = pd.get_dummies(X[cat_col], drop_first = True)\n",
    "\n",
    "numerical_columns = [i for i in list(X.columns) if i not in set(cat_col)]\n",
    "scaler = StandardScaler()\n",
    "X_num = X[numerical_columns]\n",
    "X_scaled = scaler.fit_transform(X_num)\n",
    "X_processed = pd.concat([X_num, X_cat], axis=1)\n",
    "model = LinearRegression()\n",
    "scores = cross_val_score(model, X_processed, y, cv=5)  # cv=5 means 5-fold cross-validation\n",
    "\n",
    "# Print the scores\n",
    "print(\"Cross-validation scores:\", scores)\n",
    "print(\"Mean score:\", scores.mean())\n",
    "print(\"Standard deviation of scores:\", scores.std())"
   ],
   "id": "f629aeee-0e51-4969-8dfd-0e8968214fb2",
   "outputs": [
    {
     "name": "stdout",
     "output_type": "stream",
     "text": [
      "Cross-validation scores: [0.73057509 0.72403127 0.79151061 0.71602169 0.75740017]\n",
      "Mean score: 0.7439077648788862\n",
      "Standard deviation of scores: 0.027562816994551567\n"
     ]
    }
   ],
   "execution_count": 20
  },
  {
   "metadata": {
    "ExecuteTime": {
     "end_time": "2024-08-26T16:37:36.651461Z",
     "start_time": "2024-08-26T16:37:36.636324Z"
    }
   },
   "cell_type": "code",
   "source": [
    "X_train, X_test, y_train, y_test = train_test_split(X_processed, y, test_size=0.2, random_state=42)\n",
    "model.fit(X_train, y_train)\n",
    "y_pred = model.predict(X_test)\n",
    "print('Mean squared error:', mean_squared_error(y_test, y_pred))\n",
    "print('Root mean squared error:', np.sqrt(mean_squared_error(y_test, y_pred)))\n",
    "print('R-squared score:', r2_score(y_test, y_pred))\n",
    "r2_score = r2_score(y_test, y_pred)"
   ],
   "id": "e9940710de78e4f9",
   "outputs": [
    {
     "name": "stdout",
     "output_type": "stream",
     "text": [
      "Mean squared error: 31020137.55769883\n",
      "Root mean squared error: 5569.572475307134\n",
      "R-squared score: 0.7678309153181793\n"
     ]
    }
   ],
   "execution_count": 21
  },
  {
   "metadata": {
    "ExecuteTime": {
     "end_time": "2024-08-26T16:37:36.658959Z",
     "start_time": "2024-08-26T16:37:36.652697Z"
    }
   },
   "cell_type": "code",
   "source": [
    "def transform_data(data):\n",
    "    data['region'] = data['region'].apply(lambda x: x.title())\n",
    "    data_cat = pd.get_dummies(data[cat_col], drop_first = True)\n",
    "    data_num = data[numerical_columns]\n",
    "    data_scaled = scaler.transform(data_num)\n",
    "    return pd.concat([data_num, data_cat], axis=1)\n",
    "\n",
    "def predict_data(data, model):\n",
    "    transformed_data = transform_data(data)\n",
    "    return model.predict(transformed_data)"
   ],
   "id": "dd3aad8b220c7f20",
   "outputs": [],
   "execution_count": 22
  },
  {
   "metadata": {
    "ExecuteTime": {
     "end_time": "2024-08-26T16:42:38.812115Z",
     "start_time": "2024-08-26T16:42:38.793764Z"
    }
   },
   "cell_type": "code",
   "source": [
    "validation_data = pd.read_csv('validation_dataset.csv')\n",
    "validation_data['predicted_charges'] = predict_data(validation_data, model)\n",
    "# If needed, handle any negative values by replacing them with the minimum basic charge, set at 1000.\n",
    "validation_data.loc[validation_data[\"predicted_charges\"] < 1000, \"predicted_charges\"] = 1000\n",
    "validation_data.to_csv('validation_dataset.csv', index=False)"
   ],
   "id": "815348d8558ec476",
   "outputs": [],
   "execution_count": 31
  },
  {
   "metadata": {
    "ExecuteTime": {
     "end_time": "2024-08-26T16:44:05.746914Z",
     "start_time": "2024-08-26T16:44:05.723704Z"
    }
   },
   "cell_type": "code",
   "source": "validation_data[validation_data['predicted_charges'] == 1000]",
   "id": "39cf893b96e7a384",
   "outputs": [
    {
     "data": {
      "text/plain": [
       "     age   sex     bmi  children smoker     region  predicted_charges\n",
       "20  23.0  male  18.715       0.0     no  Northwest             1000.0\n",
       "38  18.0  male  21.780       2.0     no  Southeast             1000.0"
      ],
      "text/html": [
       "<div>\n",
       "<style scoped>\n",
       "    .dataframe tbody tr th:only-of-type {\n",
       "        vertical-align: middle;\n",
       "    }\n",
       "\n",
       "    .dataframe tbody tr th {\n",
       "        vertical-align: top;\n",
       "    }\n",
       "\n",
       "    .dataframe thead th {\n",
       "        text-align: right;\n",
       "    }\n",
       "</style>\n",
       "<table border=\"1\" class=\"dataframe\">\n",
       "  <thead>\n",
       "    <tr style=\"text-align: right;\">\n",
       "      <th></th>\n",
       "      <th>age</th>\n",
       "      <th>sex</th>\n",
       "      <th>bmi</th>\n",
       "      <th>children</th>\n",
       "      <th>smoker</th>\n",
       "      <th>region</th>\n",
       "      <th>predicted_charges</th>\n",
       "    </tr>\n",
       "  </thead>\n",
       "  <tbody>\n",
       "    <tr>\n",
       "      <th>20</th>\n",
       "      <td>23.0</td>\n",
       "      <td>male</td>\n",
       "      <td>18.715</td>\n",
       "      <td>0.0</td>\n",
       "      <td>no</td>\n",
       "      <td>Northwest</td>\n",
       "      <td>1000.0</td>\n",
       "    </tr>\n",
       "    <tr>\n",
       "      <th>38</th>\n",
       "      <td>18.0</td>\n",
       "      <td>male</td>\n",
       "      <td>21.780</td>\n",
       "      <td>2.0</td>\n",
       "      <td>no</td>\n",
       "      <td>Southeast</td>\n",
       "      <td>1000.0</td>\n",
       "    </tr>\n",
       "  </tbody>\n",
       "</table>\n",
       "</div>"
      ]
     },
     "execution_count": 34,
     "metadata": {},
     "output_type": "execute_result"
    }
   ],
   "execution_count": 34
  },
  {
   "metadata": {
    "ExecuteTime": {
     "end_time": "2024-08-26T16:37:36.704764Z",
     "start_time": "2024-08-26T16:37:36.699769Z"
    }
   },
   "cell_type": "code",
   "source": "",
   "id": "a2061967224cc47b",
   "outputs": [],
   "execution_count": 24
  }
 ],
 "metadata": {
  "colab": {
   "name": "Welcome to DataCamp Workspaces.ipynb",
   "provenance": []
  },
  "kernelspec": {
   "display_name": "Python 3 (ipykernel)",
   "language": "python",
   "name": "python3"
  },
  "language_info": {
   "codemirror_mode": {
    "name": "ipython",
    "version": 3
   },
   "file_extension": ".py",
   "mimetype": "text/x-python",
   "name": "python",
   "nbconvert_exporter": "python",
   "pygments_lexer": "ipython3",
   "version": "3.8.10"
  }
 },
 "nbformat": 4,
 "nbformat_minor": 5
}
