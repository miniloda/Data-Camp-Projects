{
 "cells": [
  {
   "cell_type": "markdown",
   "metadata": {
    "dc": {
     "key": "4"
    },
    "deletable": false,
    "editable": false,
    "run_control": {
     "frozen": true
    },
    "tags": [
     "context"
    ]
   },
   "source": [
    "## Cosmetics Brand Analysis\n",
    "<p>The cosmetics industry is a 50 billion-dollar-a-year business in the US alone. Cosmetics sales are even used as an indicator for economic recessions (i.e., the \"lipstick index\").</p>\n",
    "<p>You are working for a cosmetics start-up that plans to launch a new line of organic products. The launch will focus on the following cosmetics categories: fragrances, makeup, and skincare. Your task is to find the average prices for four competitor brands across these three categories. </p>\n",
    "<p>You will be using data collected from Sephora's global store in your analysis. However, there are some additional requirements before you can present the results:</p>\n",
    "<ul>\n",
    "<li>The data available is unprocessed as received from Sephora. The start-up requests the categories as follows:</li>\n",
    "</ul>\n",
    "<table>\n",
    "<thead>\n",
    "<tr>\n",
    "<th>New category</th>\n",
    "<th style=\"text-align:left;\">Existing categories to reclassify</th>\n",
    "</tr>\n",
    "</thead>\n",
    "<tbody>\n",
    "<tr>\n",
    "<td>Fragrance</td>\n",
    "<td style=\"text-align:left;\">Perfume, Cologne</td>\n",
    "</tr>\n",
    "<tr>\n",
    "<td>Makeup</td>\n",
    "<td style=\"text-align:left;\">Eye Palettes, Lipstick, Highlighter, Foundation, Mascara, Eyeliner, Makeup, Eyeshadow</td>\n",
    "</tr>\n",
    "<tr>\n",
    "<td>Skincare</td>\n",
    "<td style=\"text-align:left;\">Moisturizers, Face Serums, Face Wash &amp; Cleansers, Face Masks, Face Primer, Body Lotions &amp; Body Oils,  Lotions &amp; Oils</td>\n",
    "</tr>\n",
    "</tbody>\n",
    "</table>\n",
    "<ul>\n",
    "<li><p>Currently, it is unclear who the primary competitors are. Find the top four brands by the combined number of fragrance, makeup, and skincare products produced.</p></li>\n",
    "<li><p>Exclude any products containing the toxic ingredient \"toluene\" from your analysis. Assume products with no ingredient information do not contain \"toluene\".</p></li>\n",
    "<li><p>Product prices should be compared in USD. Below are the conversions for currencies found in the dataset:</p>\n",
    "<ul>\n",
    "<li>1 EUR = 1.22 USD</li>\n",
    "<li>1 GBP = 1.42 USD</li>\n",
    "<li>1 Yen = 0.01 USD</li></ul></li>\n",
    "</ul>\n",
    "<hr>\n",
    "<p><em>The datasets available are listed below:</em></p>\n",
    "<div style=\"background-color: #efebe4; color: #05192d; text-align:left; vertical-align: middle; padding: 15px 25px 15px 25px; line-height: 1.6;\">\n",
    "    <div style=\"font-size:16px\"><b>datasets/cosmetics.csv - Catalogue of cosmetics products, including brand, category, price, and other characteristics</b>\n",
    "    </div>\n",
    "    <div>Source: <a href=\"https://www.kaggle.com/raghadalharbi/all-products-available-on-sephora-website/version/1\">Kaggle</a></div>\n",
    "<ul>\n",
    "    <li><b>id: </b>The product id.</li>\n",
    "    <li><b>brand: </b>The brand.</li>\n",
    "    <li><b>category: </b>The category of product.</li>\n",
    "    <li><b>name: </b>The name of the product.</li>\n",
    "    <li><b>size: </b>The size of the product.</li>\n",
    "    <li><b>price: </b>The price of the product (in various currencies).</li>\n",
    "    <li><b>rating: </b>The consumer rating of the product.</li>\n",
    "    <li><b>how_to_use: </b>Instructions for the product.</li>\n",
    "    <li><b>online_only: </b>Whether or not the product is online-exclusive.</li>\n",
    "    <li><b>limited_edition: </b>Whether or not the product is limited edition.</li>\n",
    "</ul>\n",
    "    </div>\n",
    "<div style=\"background-color: #efebe4; color: #05192d; text-align:left; vertical-align: middle; padding: 15px 25px 15px 25px; line-height: 1.6; margin-top: 17px;\">\n",
    "    <div style=\"font-size:16px\"><b>datasets/ingredients.txt - A tab-delimited file containing the product IDs and ingredients for products in the cosmetics dataset</b>\n",
    "    </div>\n",
    "    <div>Source: <a href=\"https://www.kaggle.com/raghadalharbi/all-products-available-on-sephora-website/version/1\">Kaggle</a></div>\n",
    "<ul>\n",
    "    <li><b>product_id: </b>The product id (corresponding to the id column in the cosmetics dataset).</li>\n",
    "    <li><b>ingredients: </b>The list of ingredients in the product.</li> \n",
    "</ul>\n",
    "    </div>\n",
    "<div style=\"background-color: #efebe4; color: #05192d; text-align:left; vertical-align: middle; padding: 15px 25px 15px 25px; line-height: 1.6; margin-top: 17px;\">\n",
    "    <div style=\"font-size:16px\"><b>datasets/cosmetics_categories.csv - Table containing the sub and broad categories for recategorization</b>\n",
    "    </div>\n",
    "<ul>\n",
    "    <li><b>sub_category: </b>The sub categories that exist in the cosmetics CSV that need to be recategorized.</li>\n",
    "    <li><b>broad_category: </b>The corresponding broader category to which the sub_category belongs to and needs to be recategorized as.</li> \n",
    "</ul>\n",
    "    </div>"
   ]
  },
  {
   "cell_type": "code",
   "execution_count": 1,
   "metadata": {
    "dc": {
     "key": "4"
    },
    "tags": [
     "sample_code"
    ]
   },
   "outputs": [],
   "source": [
    "\n",
    "import numpy as np \n",
    "import pandas as pd\n",
    "import matplotlib.pyplot as plt\n",
    "import seaborn as sns\n",
    "csv1 = 'datasets/cosmetics.csv'\n",
    "txt = 'datasets/ingredients.txt'\n",
    "csv2 = 'datasets/cosmetics_categories.csv'\n",
    "\n",
    "\n"
   ]
  },
  {
   "cell_type": "code",
   "execution_count": 2,
   "metadata": {
    "dc": {
     "key": "4"
    }
   },
   "outputs": [],
   "source": [
    "cosmetics = pd.read_csv(csv1)\n",
    "ingredients = pd.read_csv(txt, sep = '\\t')\n",
    "categories = pd.read_csv(csv2)"
   ]
  },
  {
   "cell_type": "code",
   "execution_count": 3,
   "metadata": {
    "dc": {
     "key": "4"
    }
   },
   "outputs": [
    {
     "data": {
      "text/html": [
       "<div>\n",
       "<style scoped>\n",
       "    .dataframe tbody tr th:only-of-type {\n",
       "        vertical-align: middle;\n",
       "    }\n",
       "\n",
       "    .dataframe tbody tr th {\n",
       "        vertical-align: top;\n",
       "    }\n",
       "\n",
       "    .dataframe thead th {\n",
       "        text-align: right;\n",
       "    }\n",
       "</style>\n",
       "<table border=\"1\" class=\"dataframe\">\n",
       "  <thead>\n",
       "    <tr style=\"text-align: right;\">\n",
       "      <th></th>\n",
       "      <th>product_id</th>\n",
       "      <th>ingredients</th>\n",
       "    </tr>\n",
       "  </thead>\n",
       "  <tbody>\n",
       "    <tr>\n",
       "      <th>0</th>\n",
       "      <td>2218774</td>\n",
       "      <td>Arancia di Capri Eau de Toilette: Alcohol Dena...</td>\n",
       "    </tr>\n",
       "    <tr>\n",
       "      <th>1</th>\n",
       "      <td>2044816</td>\n",
       "      <td>unknown</td>\n",
       "    </tr>\n",
       "    <tr>\n",
       "      <th>2</th>\n",
       "      <td>1417567</td>\n",
       "      <td>Alcohol Denat.- Water- Fragrance- Limonene- Li...</td>\n",
       "    </tr>\n",
       "    <tr>\n",
       "      <th>3</th>\n",
       "      <td>1417617</td>\n",
       "      <td>unknown</td>\n",
       "    </tr>\n",
       "    <tr>\n",
       "      <th>4</th>\n",
       "      <td>2218766</td>\n",
       "      <td>Colonia: Alcohol Denat.- Water- Fragrance- Lim...</td>\n",
       "    </tr>\n",
       "  </tbody>\n",
       "</table>\n",
       "</div>"
      ],
      "text/plain": [
       "   product_id                                        ingredients\n",
       "0     2218774  Arancia di Capri Eau de Toilette: Alcohol Dena...\n",
       "1     2044816                                            unknown\n",
       "2     1417567  Alcohol Denat.- Water- Fragrance- Limonene- Li...\n",
       "3     1417617                                            unknown\n",
       "4     2218766  Colonia: Alcohol Denat.- Water- Fragrance- Lim..."
      ]
     },
     "metadata": {},
     "output_type": "display_data"
    },
    {
     "data": {
      "text/html": [
       "<div>\n",
       "<style scoped>\n",
       "    .dataframe tbody tr th:only-of-type {\n",
       "        vertical-align: middle;\n",
       "    }\n",
       "\n",
       "    .dataframe tbody tr th {\n",
       "        vertical-align: top;\n",
       "    }\n",
       "\n",
       "    .dataframe thead th {\n",
       "        text-align: right;\n",
       "    }\n",
       "</style>\n",
       "<table border=\"1\" class=\"dataframe\">\n",
       "  <thead>\n",
       "    <tr style=\"text-align: right;\">\n",
       "      <th></th>\n",
       "      <th>id</th>\n",
       "      <th>brand</th>\n",
       "      <th>category</th>\n",
       "      <th>name</th>\n",
       "      <th>size</th>\n",
       "      <th>price</th>\n",
       "      <th>rating</th>\n",
       "      <th>how_to_use</th>\n",
       "      <th>online_only</th>\n",
       "      <th>limited_edition</th>\n",
       "    </tr>\n",
       "  </thead>\n",
       "  <tbody>\n",
       "    <tr>\n",
       "      <th>0</th>\n",
       "      <td>2218774</td>\n",
       "      <td>Acqua Di Parma</td>\n",
       "      <td>Perfume</td>\n",
       "      <td>Blu Mediterraneo MINIATURE Set</td>\n",
       "      <td>5 x 0.16oz/5mL</td>\n",
       "      <td>USD 66</td>\n",
       "      <td>4.0</td>\n",
       "      <td>Suggested Usage:-Fragrance is intensified by t...</td>\n",
       "      <td>1</td>\n",
       "      <td>0</td>\n",
       "    </tr>\n",
       "    <tr>\n",
       "      <th>1</th>\n",
       "      <td>2044816</td>\n",
       "      <td>Acqua Di Parma</td>\n",
       "      <td>Cologne</td>\n",
       "      <td>Colonia</td>\n",
       "      <td>0.7 oz/ 20 mL</td>\n",
       "      <td>USD 66</td>\n",
       "      <td>4.5</td>\n",
       "      <td>no instructions</td>\n",
       "      <td>1</td>\n",
       "      <td>0</td>\n",
       "    </tr>\n",
       "    <tr>\n",
       "      <th>2</th>\n",
       "      <td>1417567</td>\n",
       "      <td>Acqua Di Parma</td>\n",
       "      <td>Perfume</td>\n",
       "      <td>Arancia di Capri</td>\n",
       "      <td>5 oz/ 148 mL</td>\n",
       "      <td>USD 180</td>\n",
       "      <td>4.5</td>\n",
       "      <td>no instructions</td>\n",
       "      <td>1</td>\n",
       "      <td>0</td>\n",
       "    </tr>\n",
       "    <tr>\n",
       "      <th>3</th>\n",
       "      <td>1417617</td>\n",
       "      <td>Acqua Di Parma</td>\n",
       "      <td>Perfume</td>\n",
       "      <td>Mirto di Panarea</td>\n",
       "      <td>2.5 oz/ 74 mL</td>\n",
       "      <td>USD 120</td>\n",
       "      <td>4.5</td>\n",
       "      <td>no instructions</td>\n",
       "      <td>1</td>\n",
       "      <td>0</td>\n",
       "    </tr>\n",
       "    <tr>\n",
       "      <th>4</th>\n",
       "      <td>2218766</td>\n",
       "      <td>Acqua Di Parma</td>\n",
       "      <td>Perfume</td>\n",
       "      <td>Colonia Miniature Set</td>\n",
       "      <td>5 x 0.16oz/5mL</td>\n",
       "      <td>USD 72</td>\n",
       "      <td>3.5</td>\n",
       "      <td>Suggested Usage:-Fragrance is intensified by t...</td>\n",
       "      <td>1</td>\n",
       "      <td>0</td>\n",
       "    </tr>\n",
       "  </tbody>\n",
       "</table>\n",
       "</div>"
      ],
      "text/plain": [
       "        id           brand category                            name  \\\n",
       "0  2218774  Acqua Di Parma  Perfume  Blu Mediterraneo MINIATURE Set   \n",
       "1  2044816  Acqua Di Parma  Cologne                         Colonia   \n",
       "2  1417567  Acqua Di Parma  Perfume                Arancia di Capri   \n",
       "3  1417617  Acqua Di Parma  Perfume                Mirto di Panarea   \n",
       "4  2218766  Acqua Di Parma  Perfume           Colonia Miniature Set   \n",
       "\n",
       "             size    price  rating  \\\n",
       "0  5 x 0.16oz/5mL   USD 66     4.0   \n",
       "1   0.7 oz/ 20 mL   USD 66     4.5   \n",
       "2    5 oz/ 148 mL  USD 180     4.5   \n",
       "3   2.5 oz/ 74 mL  USD 120     4.5   \n",
       "4  5 x 0.16oz/5mL   USD 72     3.5   \n",
       "\n",
       "                                          how_to_use  online_only  \\\n",
       "0  Suggested Usage:-Fragrance is intensified by t...            1   \n",
       "1                                    no instructions            1   \n",
       "2                                    no instructions            1   \n",
       "3                                    no instructions            1   \n",
       "4  Suggested Usage:-Fragrance is intensified by t...            1   \n",
       "\n",
       "   limited_edition  \n",
       "0                0  \n",
       "1                0  \n",
       "2                0  \n",
       "3                0  \n",
       "4                0  "
      ]
     },
     "metadata": {},
     "output_type": "display_data"
    },
    {
     "data": {
      "text/html": [
       "<div>\n",
       "<style scoped>\n",
       "    .dataframe tbody tr th:only-of-type {\n",
       "        vertical-align: middle;\n",
       "    }\n",
       "\n",
       "    .dataframe tbody tr th {\n",
       "        vertical-align: top;\n",
       "    }\n",
       "\n",
       "    .dataframe thead th {\n",
       "        text-align: right;\n",
       "    }\n",
       "</style>\n",
       "<table border=\"1\" class=\"dataframe\">\n",
       "  <thead>\n",
       "    <tr style=\"text-align: right;\">\n",
       "      <th></th>\n",
       "      <th>sub_category</th>\n",
       "      <th>broad_category</th>\n",
       "    </tr>\n",
       "  </thead>\n",
       "  <tbody>\n",
       "    <tr>\n",
       "      <th>0</th>\n",
       "      <td>Cologne</td>\n",
       "      <td>Fragrance</td>\n",
       "    </tr>\n",
       "    <tr>\n",
       "      <th>1</th>\n",
       "      <td>Perfume</td>\n",
       "      <td>Fragrance</td>\n",
       "    </tr>\n",
       "    <tr>\n",
       "      <th>2</th>\n",
       "      <td>Eye Palettes</td>\n",
       "      <td>Makeup</td>\n",
       "    </tr>\n",
       "    <tr>\n",
       "      <th>3</th>\n",
       "      <td>Lipstick</td>\n",
       "      <td>Makeup</td>\n",
       "    </tr>\n",
       "    <tr>\n",
       "      <th>4</th>\n",
       "      <td>Highlighter</td>\n",
       "      <td>Makeup</td>\n",
       "    </tr>\n",
       "  </tbody>\n",
       "</table>\n",
       "</div>"
      ],
      "text/plain": [
       "   sub_category broad_category\n",
       "0       Cologne      Fragrance\n",
       "1       Perfume      Fragrance\n",
       "2  Eye Palettes         Makeup\n",
       "3      Lipstick         Makeup\n",
       "4   Highlighter         Makeup"
      ]
     },
     "metadata": {},
     "output_type": "display_data"
    }
   ],
   "source": [
    "\n",
    "display(ingredients.head())\n",
    "display(cosmetics.head())\n",
    "display(categories.head())"
   ]
  },
  {
   "cell_type": "markdown",
   "metadata": {
    "dc": {
     "key": "4"
    }
   },
   "source": [
    "#  Cosmetics table cleaning"
   ]
  },
  {
   "cell_type": "markdown",
   "metadata": {
    "dc": {
     "key": "4"
    }
   },
   "source": [
    "What we need to do is remove the letters in the price first and then convert it to USD with appropriate units, we need to convert it to float aftewards and then round to two decimal places."
   ]
  },
  {
   "cell_type": "markdown",
   "metadata": {
    "dc": {
     "key": "4"
    }
   },
   "source": [
    "We will filter the cosmetics columns to only show id, category, brand, and price since these are the only relevant columns"
   ]
  },
  {
   "cell_type": "code",
   "execution_count": 4,
   "metadata": {
    "dc": {
     "key": "4"
    }
   },
   "outputs": [
    {
     "data": {
      "text/plain": [
       "id           int64\n",
       "brand       object\n",
       "category    object\n",
       "price       object\n",
       "dtype: object"
      ]
     },
     "execution_count": 4,
     "metadata": {},
     "output_type": "execute_result"
    }
   ],
   "source": [
    "#Let's clean the cosmetics table first\n",
    "cosmetics = cosmetics[['id','brand', 'category', 'price']]\n",
    "cosmetics.dtypes"
   ]
  },
  {
   "cell_type": "markdown",
   "metadata": {
    "dc": {
     "key": "4"
    }
   },
   "source": [
    "# Joining the three tables using inner join"
   ]
  },
  {
   "cell_type": "markdown",
   "metadata": {
    "dc": {
     "key": "4"
    }
   },
   "source": [
    "First, we need to rename the sub_category to category to perform the inner join"
   ]
  },
  {
   "cell_type": "code",
   "execution_count": 5,
   "metadata": {
    "dc": {
     "key": "4"
    }
   },
   "outputs": [
    {
     "data": {
      "text/html": [
       "<div>\n",
       "<style scoped>\n",
       "    .dataframe tbody tr th:only-of-type {\n",
       "        vertical-align: middle;\n",
       "    }\n",
       "\n",
       "    .dataframe tbody tr th {\n",
       "        vertical-align: top;\n",
       "    }\n",
       "\n",
       "    .dataframe thead th {\n",
       "        text-align: right;\n",
       "    }\n",
       "</style>\n",
       "<table border=\"1\" class=\"dataframe\">\n",
       "  <thead>\n",
       "    <tr style=\"text-align: right;\">\n",
       "      <th></th>\n",
       "      <th>category</th>\n",
       "      <th>broad_category</th>\n",
       "    </tr>\n",
       "  </thead>\n",
       "  <tbody>\n",
       "    <tr>\n",
       "      <th>0</th>\n",
       "      <td>Cologne</td>\n",
       "      <td>Fragrance</td>\n",
       "    </tr>\n",
       "    <tr>\n",
       "      <th>1</th>\n",
       "      <td>Perfume</td>\n",
       "      <td>Fragrance</td>\n",
       "    </tr>\n",
       "    <tr>\n",
       "      <th>2</th>\n",
       "      <td>Eye Palettes</td>\n",
       "      <td>Makeup</td>\n",
       "    </tr>\n",
       "    <tr>\n",
       "      <th>3</th>\n",
       "      <td>Lipstick</td>\n",
       "      <td>Makeup</td>\n",
       "    </tr>\n",
       "    <tr>\n",
       "      <th>4</th>\n",
       "      <td>Highlighter</td>\n",
       "      <td>Makeup</td>\n",
       "    </tr>\n",
       "  </tbody>\n",
       "</table>\n",
       "</div>"
      ],
      "text/plain": [
       "       category broad_category\n",
       "0       Cologne      Fragrance\n",
       "1       Perfume      Fragrance\n",
       "2  Eye Palettes         Makeup\n",
       "3      Lipstick         Makeup\n",
       "4   Highlighter         Makeup"
      ]
     },
     "execution_count": 5,
     "metadata": {},
     "output_type": "execute_result"
    }
   ],
   "source": [
    "categories.rename(columns = {\"sub_category\": \"category\"}, inplace = True )\n",
    "categories.head()"
   ]
  },
  {
   "cell_type": "markdown",
   "metadata": {},
   "source": [
    "We then rename the product_id column on the ingredients table to match the id column of the cosmetics table"
   ]
  },
  {
   "cell_type": "code",
   "execution_count": 6,
   "metadata": {
    "dc": {
     "key": "4"
    }
   },
   "outputs": [],
   "source": [
    "ingredients.rename(columns = {\"product_id\": \"id\"}, inplace = True)"
   ]
  },
  {
   "cell_type": "code",
   "execution_count": 7,
   "metadata": {
    "dc": {
     "key": "4"
    }
   },
   "outputs": [
    {
     "data": {
      "text/html": [
       "<div>\n",
       "<style scoped>\n",
       "    .dataframe tbody tr th:only-of-type {\n",
       "        vertical-align: middle;\n",
       "    }\n",
       "\n",
       "    .dataframe tbody tr th {\n",
       "        vertical-align: top;\n",
       "    }\n",
       "\n",
       "    .dataframe thead th {\n",
       "        text-align: right;\n",
       "    }\n",
       "</style>\n",
       "<table border=\"1\" class=\"dataframe\">\n",
       "  <thead>\n",
       "    <tr style=\"text-align: right;\">\n",
       "      <th></th>\n",
       "      <th>id</th>\n",
       "      <th>brand</th>\n",
       "      <th>category</th>\n",
       "      <th>price</th>\n",
       "      <th>broad_category</th>\n",
       "      <th>ingredients</th>\n",
       "    </tr>\n",
       "  </thead>\n",
       "  <tbody>\n",
       "    <tr>\n",
       "      <th>0</th>\n",
       "      <td>2218774</td>\n",
       "      <td>Acqua Di Parma</td>\n",
       "      <td>Perfume</td>\n",
       "      <td>USD 66</td>\n",
       "      <td>Fragrance</td>\n",
       "      <td>Arancia di Capri Eau de Toilette: Alcohol Dena...</td>\n",
       "    </tr>\n",
       "    <tr>\n",
       "      <th>1</th>\n",
       "      <td>1417567</td>\n",
       "      <td>Acqua Di Parma</td>\n",
       "      <td>Perfume</td>\n",
       "      <td>USD 180</td>\n",
       "      <td>Fragrance</td>\n",
       "      <td>Alcohol Denat.- Water- Fragrance- Limonene- Li...</td>\n",
       "    </tr>\n",
       "    <tr>\n",
       "      <th>2</th>\n",
       "      <td>1417617</td>\n",
       "      <td>Acqua Di Parma</td>\n",
       "      <td>Perfume</td>\n",
       "      <td>USD 120</td>\n",
       "      <td>Fragrance</td>\n",
       "      <td>unknown</td>\n",
       "    </tr>\n",
       "    <tr>\n",
       "      <th>3</th>\n",
       "      <td>2218766</td>\n",
       "      <td>Acqua Di Parma</td>\n",
       "      <td>Perfume</td>\n",
       "      <td>USD 72</td>\n",
       "      <td>Fragrance</td>\n",
       "      <td>Colonia: Alcohol Denat.- Water- Fragrance- Lim...</td>\n",
       "    </tr>\n",
       "    <tr>\n",
       "      <th>4</th>\n",
       "      <td>1417609</td>\n",
       "      <td>Acqua Di Parma</td>\n",
       "      <td>Perfume</td>\n",
       "      <td>USD 180</td>\n",
       "      <td>Fragrance</td>\n",
       "      <td>unknown</td>\n",
       "    </tr>\n",
       "  </tbody>\n",
       "</table>\n",
       "</div>"
      ],
      "text/plain": [
       "        id           brand category    price broad_category  \\\n",
       "0  2218774  Acqua Di Parma  Perfume   USD 66      Fragrance   \n",
       "1  1417567  Acqua Di Parma  Perfume  USD 180      Fragrance   \n",
       "2  1417617  Acqua Di Parma  Perfume  USD 120      Fragrance   \n",
       "3  2218766  Acqua Di Parma  Perfume   USD 72      Fragrance   \n",
       "4  1417609  Acqua Di Parma  Perfume  USD 180      Fragrance   \n",
       "\n",
       "                                         ingredients  \n",
       "0  Arancia di Capri Eau de Toilette: Alcohol Dena...  \n",
       "1  Alcohol Denat.- Water- Fragrance- Limonene- Li...  \n",
       "2                                            unknown  \n",
       "3  Colonia: Alcohol Denat.- Water- Fragrance- Lim...  \n",
       "4                                            unknown  "
      ]
     },
     "execution_count": 7,
     "metadata": {},
     "output_type": "execute_result"
    }
   ],
   "source": [
    "merged = pd.merge(cosmetics, categories, on = 'category', how = 'inner')\n",
    "merged = pd.merge(merged, ingredients, on = 'id', how = 'inner')\n",
    "merged.head()"
   ]
  },
  {
   "cell_type": "code",
   "execution_count": 8,
   "metadata": {
    "dc": {
     "key": "4"
    }
   },
   "outputs": [
    {
     "data": {
      "text/plain": [
       "SEPHORA COLLECTION    93\n",
       "CLINIQUE              83\n",
       "Dior                  78\n",
       "TOM FORD              75\n",
       "Lancôme               57\n",
       "                      ..\n",
       "it cosmetics           1\n",
       "kenzoki                1\n",
       "Lab Series For Men     1\n",
       "bvlgari                1\n",
       "CAUDALIE               1\n",
       "Name: brand, Length: 521, dtype: int64"
      ]
     },
     "execution_count": 8,
     "metadata": {},
     "output_type": "execute_result"
    }
   ],
   "source": [
    "merged['brand'].value_counts()"
   ]
  },
  {
   "cell_type": "markdown",
   "metadata": {
    "dc": {
     "key": "4"
    }
   },
   "source": [
    "We can see that they having different casings for different brands. Alright, now we need to change the casing of the brand to lowercase so that they will all be in uniform casing."
   ]
  },
  {
   "cell_type": "code",
   "execution_count": 9,
   "metadata": {
    "dc": {
     "key": "4"
    }
   },
   "outputs": [
    {
     "data": {
      "text/plain": [
       "sephora collection     119\n",
       "clinique               112\n",
       "tom ford               103\n",
       "dior                    94\n",
       "lancôme                 73\n",
       "                      ... \n",
       "seed phytonutrients      1\n",
       "st. tropez               1\n",
       "briogeo                  1\n",
       "lab series for men       1\n",
       "sephora favorites        1\n",
       "Name: brand, Length: 174, dtype: int64"
      ]
     },
     "execution_count": 9,
     "metadata": {},
     "output_type": "execute_result"
    }
   ],
   "source": [
    "merged['brand'] = merged['brand'].str.lower()\n",
    "merged['ingredients'] = merged['ingredients'].str.lower()\n",
    "merged['brand'].value_counts()"
   ]
  },
  {
   "cell_type": "markdown",
   "metadata": {
    "dc": {
     "key": "4"
    }
   },
   "source": [
    "## Removing products containing the toxic ingredient \"toluene\"."
   ]
  },
  {
   "cell_type": "code",
   "execution_count": 10,
   "metadata": {
    "dc": {
     "key": "4"
    }
   },
   "outputs": [],
   "source": [
    "i = 0\n",
    "for ingredient in merged['ingredients']:\n",
    "    if 'toluene' in ingredient :\n",
    "        merged.drop(i, inplace = True)\n",
    "    i+=1"
   ]
  },
  {
   "cell_type": "code",
   "execution_count": 11,
   "metadata": {
    "dc": {
     "key": "4"
    }
   },
   "outputs": [
    {
     "data": {
      "image/png": "[encoded data removed]",
      "text/plain": [
       "<Figure size 432x288 with 1 Axes>"
      ]
     },
     "metadata": {
      "needs_background": "light"
     },
     "output_type": "display_data"
    }
   ],
   "source": [
    "#Since Sephora Collection, clinique, dior, \n",
    "#and tom ford are the top four brands, \n",
    "#we will update the data frame to filter only that\n",
    "merged = merged[(merged['brand'] == 'sephora collection') | \n",
    "                      (merged['brand'] == 'clinique') | \n",
    "                (merged['brand'] =='dior') | (merged['brand'] == 'tom ford')]\n",
    "sns.histplot(merged['brand'])\n",
    "plt.title(\"Top four brand count\")\n",
    "plt.show()"
   ]
  },
  {
   "cell_type": "markdown",
   "metadata": {
    "dc": {
     "key": "4"
    }
   },
   "source": [
    "## Change Price column to only include numbers and convert other currencies to USDs "
   ]
  },
  {
   "cell_type": "code",
   "execution_count": 12,
   "metadata": {
    "dc": {
     "key": "4"
    }
   },
   "outputs": [],
   "source": [
    "\n",
    "i = 0\n",
    "for row in merged['price']:\n",
    "    if row.startswith('USD'):\n",
    "        merged.iloc[i,3] = float(row.replace(\"USD\", \"\").strip()) \n",
    "    elif row.startswith('GBP'):\n",
    "        merged.iloc[i,3] = round(float(row.replace(\"GBP\", \"\").strip()) * 1.42,2)\n",
    "        print(cosmetics.iloc[i,3])\n",
    "    elif row.startswith('YEN'):\n",
    "        merged.iloc[i,3] = round(float(row.replace(\"YEN\", \"\").strip()) * 0.01,2)\n",
    "    else:\n",
    "        merged.iloc[i,3] = round(float(row.replace(\"EUR\", \"\").strip()) * 1.22,2)\n",
    "    i+=1\n",
    "merged['price'] = merged['price'].astype('float64')\n"
   ]
  },
  {
   "cell_type": "markdown",
   "metadata": {
    "dc": {
     "key": "4"
    }
   },
   "source": [
    "## Creation of the new dataframe"
   ]
  },
  {
   "cell_type": "markdown",
   "metadata": {},
   "source": [
    "We first initialize the dictionary for our dataframe. Then, we create 4 temporary dictionaries to count the units of each category "
   ]
  },
  {
   "cell_type": "code",
   "execution_count": 13,
   "metadata": {
    "dc": {
     "key": "4"
    }
   },
   "outputs": [],
   "source": [
    "new_dict = {'clinique':{'Fragrance': 0 , 'Makeup': 0 , 'Skincare' : 0},\n",
    "             'dior':{'Fragrance': 0 , 'Makeup': 0 , 'Skincare' : 0},\n",
    "            'sephora collection':{'Fragrance': 0 , 'Makeup': 0 , 'Skincare' : 0},\n",
    "             'tom ford':{'Fragrance': 0 , 'Makeup': 0 , 'Skincare' : 0}}\n",
    "clinique_dict = {'Fragrance': 0 , 'Makeup': 0 , 'Skincare' : 0}\n",
    "dior_dict = {'Fragrance': 0 , 'Makeup': 0 , 'Skincare' : 0}\n",
    "sephora_dict = {'Fragrance': 0 , 'Makeup': 0 , 'Skincare' : 0}\n",
    "tom_dict = {'Fragrance': 0 , 'Makeup': 0 , 'Skincare' : 0}"
   ]
  },
  {
   "cell_type": "code",
   "execution_count": 14,
   "metadata": {
    "dc": {
     "key": "4"
    }
   },
   "outputs": [],
   "source": [
    "i = 0\n",
    "for row in merged['brand']:\n",
    "    for keys in new_dict.keys():\n",
    "        if row == keys:\n",
    "            for k,v in new_dict[keys].items():\n",
    "                if merged.iloc[i,4] == k:\n",
    "                    new_dict[row][k] += merged.iloc[i,3]\n",
    "                    if row == 'clinique':\n",
    "                        clinique_dict[merged.iloc[i,4]] +=1\n",
    "                    elif row == 'dior':\n",
    "                        dior_dict[merged.iloc[i,4]] +=1\n",
    "                    elif row == 'sephora collection':\n",
    "                        sephora_dict[merged.iloc[i,4]] +=1\n",
    "                    else:\n",
    "                        tom_dict[merged.iloc[i,4]] +=1\n",
    "                        \n",
    "    i+=1\n",
    "#We then get the average\n",
    "for keys in new_dict.keys():\n",
    "    if keys == 'clinique':\n",
    "            for k,v in new_dict[keys].items():\n",
    "                new_dict[keys][k] = round(float(new_dict[keys][k]/clinique_dict[k]),2)\n",
    "    elif keys == 'dior':\n",
    "            for k,v in new_dict[keys].items():\n",
    "                new_dict[keys][k] = round(float(new_dict[keys][k]/dior_dict[k]),2)\n",
    "            \n",
    "    elif keys == 'sephora collection':\n",
    "           for k,v in new_dict[keys].items():\n",
    "                new_dict[keys][k] = round(float(new_dict[keys][k]/sephora_dict[k]),2)\n",
    "    else:\n",
    "            for k,v in new_dict[keys].items():\n",
    "                new_dict[keys][k] = round(float(new_dict[keys][k]/tom_dict[k]),2)"
   ]
  },
  {
   "cell_type": "code",
   "execution_count": 15,
   "metadata": {
    "dc": {
     "key": "4"
    },
    "scrolled": true
   },
   "outputs": [
    {
     "data": {
      "text/html": [
       "<div>\n",
       "<style scoped>\n",
       "    .dataframe tbody tr th:only-of-type {\n",
       "        vertical-align: middle;\n",
       "    }\n",
       "\n",
       "    .dataframe tbody tr th {\n",
       "        vertical-align: top;\n",
       "    }\n",
       "\n",
       "    .dataframe thead th {\n",
       "        text-align: right;\n",
       "    }\n",
       "</style>\n",
       "<table border=\"1\" class=\"dataframe\">\n",
       "  <thead>\n",
       "    <tr style=\"text-align: right;\">\n",
       "      <th></th>\n",
       "      <th>Fragrance</th>\n",
       "      <th>Makeup</th>\n",
       "      <th>Skincare</th>\n",
       "    </tr>\n",
       "  </thead>\n",
       "  <tbody>\n",
       "    <tr>\n",
       "      <th>clinique</th>\n",
       "      <td>58.00</td>\n",
       "      <td>24.08</td>\n",
       "      <td>36.90</td>\n",
       "    </tr>\n",
       "    <tr>\n",
       "      <th>dior</th>\n",
       "      <td>92.85</td>\n",
       "      <td>39.12</td>\n",
       "      <td>88.08</td>\n",
       "    </tr>\n",
       "    <tr>\n",
       "      <th>sephora collection</th>\n",
       "      <td>17.00</td>\n",
       "      <td>16.83</td>\n",
       "      <td>10.04</td>\n",
       "    </tr>\n",
       "    <tr>\n",
       "      <th>tom ford</th>\n",
       "      <td>182.70</td>\n",
       "      <td>61.35</td>\n",
       "      <td>74.86</td>\n",
       "    </tr>\n",
       "  </tbody>\n",
       "</table>\n",
       "</div>"
      ],
      "text/plain": [
       "                    Fragrance  Makeup  Skincare\n",
       "clinique                58.00   24.08     36.90\n",
       "dior                    92.85   39.12     88.08\n",
       "sephora collection      17.00   16.83     10.04\n",
       "tom ford               182.70   61.35     74.86"
      ]
     },
     "execution_count": 15,
     "metadata": {},
     "output_type": "execute_result"
    }
   ],
   "source": [
    "brand_prices = pd.DataFrame.from_dict(new_dict).transpose()\n",
    "brand_prices"
   ]
  },
  {
   "cell_type": "markdown",
   "metadata": {},
   "source": [
    "All done!\n"
   ]
  }
 ],
 "metadata": {
  "kernelspec": {
   "display_name": "Python 3 (ipykernel)",
   "language": "python",
   "name": "python3"
  },
  "language_info": {
   "codemirror_mode": {
    "name": "ipython",
    "version": 3
   },
   "file_extension": ".py",
   "mimetype": "text/x-python",
   "name": "python",
   "nbconvert_exporter": "python",
   "pygments_lexer": "ipython3",
   "version": "3.9.7"
  }
 },
 "nbformat": 4,
 "nbformat_minor": 2
}
