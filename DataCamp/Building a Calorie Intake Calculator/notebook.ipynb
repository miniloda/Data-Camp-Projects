{
 "cells": [
  {
   "source": "![image](image.jpg)\n\nAs a Software Engineer in a Health and Leisure company, your task is to add a new feature to the app: a calorie and nutrition calculator. This tool will calculate and display total calories, sugars, fats, and other nutritional values for different foods based on user input.\n\nYou have been provided with the `nutrition.json` dataset, which contains the necessary nutritional information for various foods. Each value in the dataset is per **100 grams** of the food item. The dataset has already been read and loaded for you as the dictionary `nutrition_dict`.\n\n## Dataset Summary\n\n`nutrition.json`\n\n| Column        | Description                                             |\n|---------------|---------------------------------------------------------|\n| `food` | The name of the food.                                   |\n| `calories`  | The amount of energy provided by the food, measured in kilocalories (kcal) per 100 grams. |\n| `total_fat` | The total fat content in grams per 100 grams.                         |\n| `protein`   | The protein content in grams per 100 grams.                           |\n| `carbohydrate` | The total carbohydrate content in grams per 100 grams.             |\n| `sugars`    | The amount of sugars in grams per 100 grams.                          |\n\n### Let's Get Started!\n\nThis project is a great opportunity to build a real-world feature from scratch, showcasing your development skills and making a meaningful impact on users' health and wellness.",
   "metadata": {
    "collapsed": false,
    "jupyter": {
     "outputs_hidden": false,
     "source_hidden": false
    }
   },
   "id": "e18662c4-17a9-49b2-be10-2a4c3f92d5cd",
   "cell_type": "markdown"
  },
  {
   "source": "import json  # Import the json module to work with JSON files\n\n# Open the nutrition.json file in read mode and load its content into a dictionary\nwith open('nutrition.json', 'r') as json_file:\n    nutrition_dict = json.load(json_file)  # Load the JSON content into a dictionary\n    \n# Display the first 3 items of the nutrition dictionary\nlist(nutrition_dict.items())[:3]",
   "metadata": {
    "executionCancelledAt": null,
    "executionTime": 29,
    "lastExecutedAt": 1724685671293,
    "lastExecutedByKernel": "1934e8da-40e1-455f-b178-ed92aa5d0d92",
    "lastScheduledRunId": null,
    "lastSuccessfullyExecutedCode": "import json  # Import the json module to work with JSON files\n\n# Open the nutrition.json file in read mode and load its content into a dictionary\nwith open('nutrition.json', 'r') as json_file:\n    nutrition_dict = json.load(json_file)  # Load the JSON content into a dictionary\n    \n# Display the first 3 items of the nutrition dictionary\nlist(nutrition_dict.items())[:3]",
    "outputsMetadata": {
     "0": {
      "height": 192,
      "type": "dataFrame"
     }
    },
    "ExecuteTime": {
     "end_time": "2024-08-26T15:35:31.403443Z",
     "start_time": "2024-08-26T15:35:31.368765Z"
    }
   },
   "id": "8ba1bb9b-f1be-4285-b6c2-7e2486f8075c",
   "cell_type": "code",
   "outputs": [
    {
     "data": {
      "text/plain": [
       "[('Cornstarch',\n",
       "  {'calories': 381,\n",
       "   'total_fat': 0.1,\n",
       "   'protein': 0.26,\n",
       "   'carbohydrate': 91.27,\n",
       "   'sugars': 0.0}),\n",
       " ('Nuts, pecans',\n",
       "  {'calories': 691,\n",
       "   'total_fat': 72.0,\n",
       "   'protein': 9.17,\n",
       "   'carbohydrate': 13.86,\n",
       "   'sugars': 3.97}),\n",
       " ('Eggplant, raw',\n",
       "  {'calories': 25,\n",
       "   'total_fat': 0.2,\n",
       "   'protein': 0.98,\n",
       "   'carbohydrate': 5.88,\n",
       "   'sugars': 3.53})]"
      ]
     },
     "execution_count": 1,
     "metadata": {},
     "output_type": "execute_result"
    }
   ],
   "execution_count": 1
  },
  {
   "source": [
    "# Start coding here!\n",
    "# Use as many cells as you need.\n",
    "\n",
    "def nutritional_summary(foods):\n",
    "    assert type(foods) == dict, \"input should be in a dictionary format\" \n",
    "    nut_sum = {}\n",
    "    calories, total_fat, protein, carbohydrate, sugars = 0, 0, 0, 0, 0\n",
    "    for key, value in foods.items():\n",
    "          if key not in nutrition_dict.keys():\n",
    "              print(f\"Error: {key} is not in the nutrition dataset.\") \n",
    "              return key # return the first food item not found in the dataset\n",
    "          else:\n",
    "              calories += nutrition_dict[key]['calories'] * value/100 # value is in grams\n",
    "              total_fat += nutrition_dict[key]['total_fat'] * value/100\n",
    "              protein += nutrition_dict[key]['protein'] * value/100\n",
    "              carbohydrate += nutrition_dict[key]['carbohydrate'] * value/100\n",
    "              sugars += nutrition_dict[key]['sugars'] * value/100\n",
    "    return {'calories': calories, 'total_fat': total_fat, 'protein': protein, 'carbohydrate': carbohydrate,'sugars': sugars}\n",
    "nutritional_summary({\"Croissant\": 150, \"Orange juice, raw\": 250}) \n",
    "    "
   ],
   "metadata": {
    "executionCancelledAt": null,
    "executionTime": 46,
    "lastExecutedAt": 1724685671481,
    "lastExecutedByKernel": "1934e8da-40e1-455f-b178-ed92aa5d0d92",
    "lastScheduledRunId": null,
    "lastSuccessfullyExecutedCode": "# Start coding here!\n# Use as many cells as you need.\n\ndef nutritional_summary(nutrition_dict):\n    pass",
    "ExecuteTime": {
     "end_time": "2024-08-26T15:40:59.831181Z",
     "start_time": "2024-08-26T15:40:59.819842Z"
    }
   },
   "id": "9b446fce-3dc7-42ae-919b-908e1e3a6ae0",
   "cell_type": "code",
   "outputs": [
    {
     "name": "stdout",
     "output_type": "stream",
     "text": [
      "Error: Croissant is not in the nutrition dataset.\n"
     ]
    },
    {
     "data": {
      "text/plain": [
       "'Croissant'"
      ]
     },
     "execution_count": 5,
     "metadata": {},
     "output_type": "execute_result"
    }
   ],
   "execution_count": 5
  },
  {
   "metadata": {},
   "cell_type": "code",
   "outputs": [],
   "execution_count": null,
   "source": "",
   "id": "ff5131a494e0859e"
  }
 ],
 "metadata": {
  "colab": {
   "name": "Welcome to DataCamp Workspaces.ipynb",
   "provenance": []
  },
  "kernelspec": {
   "display_name": "Python 3 (ipykernel)",
   "language": "python",
   "name": "python3"
  },
  "language_info": {
   "name": "python",
   "version": "3.8.10",
   "mimetype": "text/x-python",
   "codemirror_mode": {
    "name": "ipython",
    "version": 3
   },
   "pygments_lexer": "ipython3",
   "nbconvert_exporter": "python",
   "file_extension": ".py"
  },
  "editor": "DataLab"
 },
 "nbformat": 4,
 "nbformat_minor": 5
}
