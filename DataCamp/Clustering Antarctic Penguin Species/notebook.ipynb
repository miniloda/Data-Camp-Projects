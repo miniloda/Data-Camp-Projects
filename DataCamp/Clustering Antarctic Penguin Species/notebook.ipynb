{
 "cells": [
  {
   "source": "![Alt text](https://imgur.com/orZWHly.png=80)\nsource: @allison_horst https://github.com/allisonhorst/penguins",
   "metadata": {},
   "id": "589fe37e-e764-4d71-9c3c-93c8b7acee79",
   "cell_type": "markdown"
  },
  {
   "source": "You have been asked to support a team of researchers who have been collecting data about penguins in Antartica! The data is available in csv-Format as `penguins.csv`\n\n**Origin of this data** : Data were collected and made available by Dr. Kristen Gorman and the Palmer Station, Antarctica LTER, a member of the Long Term Ecological Research Network.\n\n**The dataset consists of 5 columns.**\n\nColumn | Description\n--- | ---\nculmen_length_mm | culmen length (mm)\nculmen_depth_mm | culmen depth (mm)\nflipper_length_mm | flipper length (mm)\nbody_mass_g | body mass (g)\nsex | penguin sex\n\nUnfortunately, they have not been able to record the species of penguin, but they know that there are **at least three** species that are native to the region: **Adelie**, **Chinstrap**, and **Gentoo**.  Your task is to apply your data science skills to help them identify groups in the dataset!",
   "metadata": {},
   "id": "d3fb84f2-0eda-4b73-95c0-5364f83e25bf",
   "cell_type": "markdown"
  },
  {
   "source": "# Import Required Packages\nimport pandas as pd\nimport matplotlib.pyplot as plt\nfrom sklearn.cluster import KMeans\nfrom sklearn.preprocessing import StandardScaler\n\n# Loading and examining the dataset\npenguins_df = pd.read_csv(\"penguins.csv\")\npenguins_df.head()",
   "metadata": {
    "executionCancelledAt": null,
    "executionTime": 24,
    "lastExecutedAt": 1717157062256,
    "lastScheduledRunId": null,
    "lastSuccessfullyExecutedCode": "# Import Required Packages\nimport pandas as pd\nimport matplotlib.pyplot as plt\n\nfrom sklearn.cluster import KMeans\nfrom sklearn.preprocessing import StandardScaler\n\n# Loading and examining the dataset\npenguins_df = pd.read_csv(\"penguins.csv\")\npenguins_df.head()",
    "lastExecutedByKernel": "58942c8c-0534-4896-9aa9-4b6e1191a459",
    "outputsMetadata": {
     "0": {
      "height": 219,
      "type": "dataFrame"
     }
    },
    "ExecuteTime": {
     "end_time": "2024-09-07T18:50:16.805784Z",
     "start_time": "2024-09-07T18:50:03.511868Z"
    }
   },
   "id": "57295d13-5753-4f8d-aa96-cd6815f7cbd9",
   "cell_type": "code",
   "outputs": [
    {
     "data": {
      "text/plain": [
       "   culmen_length_mm  culmen_depth_mm  flipper_length_mm  body_mass_g     sex\n",
       "0              39.1             18.7              181.0       3750.0    MALE\n",
       "1              39.5             17.4              186.0       3800.0  FEMALE\n",
       "2              40.3             18.0              195.0       3250.0  FEMALE\n",
       "3              36.7             19.3              193.0       3450.0  FEMALE\n",
       "4              39.3             20.6              190.0       3650.0    MALE"
      ],
      "text/html": [
       "<div>\n",
       "<style scoped>\n",
       "    .dataframe tbody tr th:only-of-type {\n",
       "        vertical-align: middle;\n",
       "    }\n",
       "\n",
       "    .dataframe tbody tr th {\n",
       "        vertical-align: top;\n",
       "    }\n",
       "\n",
       "    .dataframe thead th {\n",
       "        text-align: right;\n",
       "    }\n",
       "</style>\n",
       "<table border=\"1\" class=\"dataframe\">\n",
       "  <thead>\n",
       "    <tr style=\"text-align: right;\">\n",
       "      <th></th>\n",
       "      <th>culmen_length_mm</th>\n",
       "      <th>culmen_depth_mm</th>\n",
       "      <th>flipper_length_mm</th>\n",
       "      <th>body_mass_g</th>\n",
       "      <th>sex</th>\n",
       "    </tr>\n",
       "  </thead>\n",
       "  <tbody>\n",
       "    <tr>\n",
       "      <th>0</th>\n",
       "      <td>39.1</td>\n",
       "      <td>18.7</td>\n",
       "      <td>181.0</td>\n",
       "      <td>3750.0</td>\n",
       "      <td>MALE</td>\n",
       "    </tr>\n",
       "    <tr>\n",
       "      <th>1</th>\n",
       "      <td>39.5</td>\n",
       "      <td>17.4</td>\n",
       "      <td>186.0</td>\n",
       "      <td>3800.0</td>\n",
       "      <td>FEMALE</td>\n",
       "    </tr>\n",
       "    <tr>\n",
       "      <th>2</th>\n",
       "      <td>40.3</td>\n",
       "      <td>18.0</td>\n",
       "      <td>195.0</td>\n",
       "      <td>3250.0</td>\n",
       "      <td>FEMALE</td>\n",
       "    </tr>\n",
       "    <tr>\n",
       "      <th>3</th>\n",
       "      <td>36.7</td>\n",
       "      <td>19.3</td>\n",
       "      <td>193.0</td>\n",
       "      <td>3450.0</td>\n",
       "      <td>FEMALE</td>\n",
       "    </tr>\n",
       "    <tr>\n",
       "      <th>4</th>\n",
       "      <td>39.3</td>\n",
       "      <td>20.6</td>\n",
       "      <td>190.0</td>\n",
       "      <td>3650.0</td>\n",
       "      <td>MALE</td>\n",
       "    </tr>\n",
       "  </tbody>\n",
       "</table>\n",
       "</div>"
      ]
     },
     "execution_count": 1,
     "metadata": {},
     "output_type": "execute_result"
    }
   ],
   "execution_count": 1
  },
  {
   "metadata": {
    "ExecuteTime": {
     "end_time": "2024-09-07T18:50:50.922488Z",
     "start_time": "2024-09-07T18:50:50.911288Z"
    }
   },
   "cell_type": "code",
   "source": [
    "transformed_df = penguins_df.copy()\n",
    "transformed_df.isnull().sum()"
   ],
   "id": "7261cd5def73265e",
   "outputs": [
    {
     "data": {
      "text/plain": [
       "culmen_length_mm     0\n",
       "culmen_depth_mm      0\n",
       "flipper_length_mm    0\n",
       "body_mass_g          0\n",
       "sex                  0\n",
       "dtype: int64"
      ]
     },
     "execution_count": 2,
     "metadata": {},
     "output_type": "execute_result"
    }
   ],
   "execution_count": 2
  },
  {
   "metadata": {
    "ExecuteTime": {
     "end_time": "2024-09-07T18:51:06.035085Z",
     "start_time": "2024-09-07T18:51:06.021181Z"
    }
   },
   "cell_type": "code",
   "source": "transformed_df = pd.get_dummies(transformed_df, columns=[\"sex\"])\n",
   "id": "44a4a962d43e566f",
   "outputs": [],
   "execution_count": 3
  },
  {
   "metadata": {
    "ExecuteTime": {
     "end_time": "2024-09-07T18:53:44.708245Z",
     "start_time": "2024-09-07T18:53:44.409420Z"
    }
   },
   "cell_type": "code",
   "source": [
    "# get the inertia\n",
    "inertia = []\n",
    "for i in range(1,21):\n",
    "    kmeans = KMeans(n_clusters=i)\n",
    "    kmeans.fit(transformed_df)\n",
    "    inertia.append(kmeans.inertia_)\n",
    "\n",
    "plt.plot(range(1,21), inertia)\n",
    "plt.xticks(range(1,21))\n",
    "plt.title(\"Elbow Method\")\n",
    "plt.xlabel(\"Number of Clusters\")\n",
    "plt.ylabel(\"Inertia\")\n",
    "plt.show()"
   ],
   "id": "c117d82f62140686",
   "outputs": [
    {
     "data": {
      "text/plain": [
       "<Figure size 640x480 with 1 Axes>"
      ],
      "image/png": "[encoded data removed]"
     },
     "metadata": {},
     "output_type": "display_data"
    }
   ],
   "execution_count": 7
  },
  {
   "metadata": {
    "ExecuteTime": {
     "end_time": "2024-09-07T18:54:12.300141Z",
     "start_time": "2024-09-07T18:54:12.285423Z"
    }
   },
   "cell_type": "code",
   "source": [
    "# we can see that the elbow is at 3, so we will use 3 clusters\n",
    "kmeans = KMeans(n_clusters=3)\n",
    "kmeans.fit(transformed_df)\n",
    "\n",
    "penguins_df[\"Cluster\"] = kmeans.labels_\n"
   ],
   "id": "2cf51e2f50335fcf",
   "outputs": [],
   "execution_count": 8
  },
  {
   "metadata": {
    "ExecuteTime": {
     "end_time": "2024-09-07T18:54:15.276809Z",
     "start_time": "2024-09-07T18:54:15.258003Z"
    }
   },
   "cell_type": "code",
   "source": "penguins_df",
   "id": "1d26af961e1bd173",
   "outputs": [
    {
     "data": {
      "text/plain": [
       "     culmen_length_mm  culmen_depth_mm  flipper_length_mm  body_mass_g  \\\n",
       "0                39.1             18.7              181.0       3750.0   \n",
       "1                39.5             17.4              186.0       3800.0   \n",
       "2                40.3             18.0              195.0       3250.0   \n",
       "3                36.7             19.3              193.0       3450.0   \n",
       "4                39.3             20.6              190.0       3650.0   \n",
       "..                ...              ...                ...          ...   \n",
       "327              47.2             13.7              214.0       4925.0   \n",
       "328              46.8             14.3              215.0       4850.0   \n",
       "329              50.4             15.7              222.0       5750.0   \n",
       "330              45.2             14.8              212.0       5200.0   \n",
       "331              49.9             16.1              213.0       5400.0   \n",
       "\n",
       "        sex  Cluster  \n",
       "0      MALE        0  \n",
       "1    FEMALE        0  \n",
       "2    FEMALE        0  \n",
       "3    FEMALE        0  \n",
       "4      MALE        0  \n",
       "..      ...      ...  \n",
       "327  FEMALE        1  \n",
       "328  FEMALE        1  \n",
       "329    MALE        1  \n",
       "330  FEMALE        1  \n",
       "331    MALE        1  \n",
       "\n",
       "[332 rows x 6 columns]"
      ],
      "text/html": [
       "<div>\n",
       "<style scoped>\n",
       "    .dataframe tbody tr th:only-of-type {\n",
       "        vertical-align: middle;\n",
       "    }\n",
       "\n",
       "    .dataframe tbody tr th {\n",
       "        vertical-align: top;\n",
       "    }\n",
       "\n",
       "    .dataframe thead th {\n",
       "        text-align: right;\n",
       "    }\n",
       "</style>\n",
       "<table border=\"1\" class=\"dataframe\">\n",
       "  <thead>\n",
       "    <tr style=\"text-align: right;\">\n",
       "      <th></th>\n",
       "      <th>culmen_length_mm</th>\n",
       "      <th>culmen_depth_mm</th>\n",
       "      <th>flipper_length_mm</th>\n",
       "      <th>body_mass_g</th>\n",
       "      <th>sex</th>\n",
       "      <th>Cluster</th>\n",
       "    </tr>\n",
       "  </thead>\n",
       "  <tbody>\n",
       "    <tr>\n",
       "      <th>0</th>\n",
       "      <td>39.1</td>\n",
       "      <td>18.7</td>\n",
       "      <td>181.0</td>\n",
       "      <td>3750.0</td>\n",
       "      <td>MALE</td>\n",
       "      <td>0</td>\n",
       "    </tr>\n",
       "    <tr>\n",
       "      <th>1</th>\n",
       "      <td>39.5</td>\n",
       "      <td>17.4</td>\n",
       "      <td>186.0</td>\n",
       "      <td>3800.0</td>\n",
       "      <td>FEMALE</td>\n",
       "      <td>0</td>\n",
       "    </tr>\n",
       "    <tr>\n",
       "      <th>2</th>\n",
       "      <td>40.3</td>\n",
       "      <td>18.0</td>\n",
       "      <td>195.0</td>\n",
       "      <td>3250.0</td>\n",
       "      <td>FEMALE</td>\n",
       "      <td>0</td>\n",
       "    </tr>\n",
       "    <tr>\n",
       "      <th>3</th>\n",
       "      <td>36.7</td>\n",
       "      <td>19.3</td>\n",
       "      <td>193.0</td>\n",
       "      <td>3450.0</td>\n",
       "      <td>FEMALE</td>\n",
       "      <td>0</td>\n",
       "    </tr>\n",
       "    <tr>\n",
       "      <th>4</th>\n",
       "      <td>39.3</td>\n",
       "      <td>20.6</td>\n",
       "      <td>190.0</td>\n",
       "      <td>3650.0</td>\n",
       "      <td>MALE</td>\n",
       "      <td>0</td>\n",
       "    </tr>\n",
       "    <tr>\n",
       "      <th>...</th>\n",
       "      <td>...</td>\n",
       "      <td>...</td>\n",
       "      <td>...</td>\n",
       "      <td>...</td>\n",
       "      <td>...</td>\n",
       "      <td>...</td>\n",
       "    </tr>\n",
       "    <tr>\n",
       "      <th>327</th>\n",
       "      <td>47.2</td>\n",
       "      <td>13.7</td>\n",
       "      <td>214.0</td>\n",
       "      <td>4925.0</td>\n",
       "      <td>FEMALE</td>\n",
       "      <td>1</td>\n",
       "    </tr>\n",
       "    <tr>\n",
       "      <th>328</th>\n",
       "      <td>46.8</td>\n",
       "      <td>14.3</td>\n",
       "      <td>215.0</td>\n",
       "      <td>4850.0</td>\n",
       "      <td>FEMALE</td>\n",
       "      <td>1</td>\n",
       "    </tr>\n",
       "    <tr>\n",
       "      <th>329</th>\n",
       "      <td>50.4</td>\n",
       "      <td>15.7</td>\n",
       "      <td>222.0</td>\n",
       "      <td>5750.0</td>\n",
       "      <td>MALE</td>\n",
       "      <td>1</td>\n",
       "    </tr>\n",
       "    <tr>\n",
       "      <th>330</th>\n",
       "      <td>45.2</td>\n",
       "      <td>14.8</td>\n",
       "      <td>212.0</td>\n",
       "      <td>5200.0</td>\n",
       "      <td>FEMALE</td>\n",
       "      <td>1</td>\n",
       "    </tr>\n",
       "    <tr>\n",
       "      <th>331</th>\n",
       "      <td>49.9</td>\n",
       "      <td>16.1</td>\n",
       "      <td>213.0</td>\n",
       "      <td>5400.0</td>\n",
       "      <td>MALE</td>\n",
       "      <td>1</td>\n",
       "    </tr>\n",
       "  </tbody>\n",
       "</table>\n",
       "<p>332 rows × 6 columns</p>\n",
       "</div>"
      ]
     },
     "execution_count": 9,
     "metadata": {},
     "output_type": "execute_result"
    }
   ],
   "execution_count": 9
  },
  {
   "metadata": {
    "ExecuteTime": {
     "end_time": "2024-09-07T18:56:28.897882Z",
     "start_time": "2024-09-07T18:56:28.890478Z"
    }
   },
   "cell_type": "code",
   "source": "stat_penguins = penguins_df.drop('sex', axis=1).groupby(\"Cluster\").mean()",
   "id": "3e8a41415ac5d2f1",
   "outputs": [],
   "execution_count": 13
  },
  {
   "metadata": {
    "ExecuteTime": {
     "end_time": "2024-09-07T18:56:30.145494Z",
     "start_time": "2024-09-07T18:56:30.133813Z"
    }
   },
   "cell_type": "code",
   "source": "stat_penguins\n",
   "id": "6c03ff2b74a25b2",
   "outputs": [
    {
     "data": {
      "text/plain": [
       "         culmen_length_mm  culmen_depth_mm  flipper_length_mm  body_mass_g\n",
       "Cluster                                                                   \n",
       "0               41.122143        17.946429         189.628571  3461.250000\n",
       "1               48.662500        15.397500         219.987500  5365.937500\n",
       "2               44.329464        17.415179         201.580357  4309.821429"
      ],
      "text/html": [
       "<div>\n",
       "<style scoped>\n",
       "    .dataframe tbody tr th:only-of-type {\n",
       "        vertical-align: middle;\n",
       "    }\n",
       "\n",
       "    .dataframe tbody tr th {\n",
       "        vertical-align: top;\n",
       "    }\n",
       "\n",
       "    .dataframe thead th {\n",
       "        text-align: right;\n",
       "    }\n",
       "</style>\n",
       "<table border=\"1\" class=\"dataframe\">\n",
       "  <thead>\n",
       "    <tr style=\"text-align: right;\">\n",
       "      <th></th>\n",
       "      <th>culmen_length_mm</th>\n",
       "      <th>culmen_depth_mm</th>\n",
       "      <th>flipper_length_mm</th>\n",
       "      <th>body_mass_g</th>\n",
       "    </tr>\n",
       "    <tr>\n",
       "      <th>Cluster</th>\n",
       "      <th></th>\n",
       "      <th></th>\n",
       "      <th></th>\n",
       "      <th></th>\n",
       "    </tr>\n",
       "  </thead>\n",
       "  <tbody>\n",
       "    <tr>\n",
       "      <th>0</th>\n",
       "      <td>41.122143</td>\n",
       "      <td>17.946429</td>\n",
       "      <td>189.628571</td>\n",
       "      <td>3461.250000</td>\n",
       "    </tr>\n",
       "    <tr>\n",
       "      <th>1</th>\n",
       "      <td>48.662500</td>\n",
       "      <td>15.397500</td>\n",
       "      <td>219.987500</td>\n",
       "      <td>5365.937500</td>\n",
       "    </tr>\n",
       "    <tr>\n",
       "      <th>2</th>\n",
       "      <td>44.329464</td>\n",
       "      <td>17.415179</td>\n",
       "      <td>201.580357</td>\n",
       "      <td>4309.821429</td>\n",
       "    </tr>\n",
       "  </tbody>\n",
       "</table>\n",
       "</div>"
      ]
     },
     "execution_count": 14,
     "metadata": {},
     "output_type": "execute_result"
    }
   ],
   "execution_count": 14
  },
  {
   "metadata": {},
   "cell_type": "code",
   "outputs": [],
   "execution_count": null,
   "source": "",
   "id": "2dfeee76229b155e"
  }
 ],
 "metadata": {
  "colab": {
   "name": "Welcome to DataCamp Workspaces.ipynb",
   "provenance": []
  },
  "kernelspec": {
   "display_name": "Python 3 (ipykernel)",
   "language": "python",
   "name": "python3"
  },
  "language_info": {
   "name": "python",
   "version": "3.8.10",
   "mimetype": "text/x-python",
   "codemirror_mode": {
    "name": "ipython",
    "version": 3
   },
   "pygments_lexer": "ipython3",
   "nbconvert_exporter": "python",
   "file_extension": ".py"
  },
  "editor": "DataLab"
 },
 "nbformat": 4,
 "nbformat_minor": 5
}
